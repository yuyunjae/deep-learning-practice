{
 "cells": [
  {
   "cell_type": "code",
   "execution_count": 1,
   "id": "9a4fafdb",
   "metadata": {},
   "outputs": [
    {
     "name": "stdout",
     "output_type": "stream",
     "text": [
      "Processor: Intel64 Family 6 Model 183 Stepping 1, GenuineIntel\n",
      "CPU Brand: Intel(R) Core(TM) i5-14600K\n",
      "CPU cores (logical): 20\n",
      "OS: Windows 11\n",
      "Python version: 3.12.7\n",
      "CUDA available: True\n",
      "cuDNN enabled: True\n",
      "CUDA version: 12.6\n",
      "cuDNN version: 90501\n",
      "Device name: NVIDIA GeForce RTX 4070 SUPER\n"
     ]
    }
   ],
   "source": [
    "import torch\n",
    "import platform\n",
    "import os\n",
    "import cpuinfo\n",
    "\n",
    "print(\"Processor:\", platform.processor())\n",
    "info = cpuinfo.get_cpu_info()\n",
    "print(\"CPU Brand:\", info['brand_raw'])  \n",
    "print(\"CPU cores (logical):\", os.cpu_count())\n",
    "\n",
    "print(\"OS:\", platform.system(), platform.release())\n",
    "\n",
    "print(\"Python version:\", platform.python_version())\n",
    "\n",
    "print(\"CUDA available:\", torch.cuda.is_available())\n",
    "print(\"cuDNN enabled:\", torch.backends.cudnn.enabled)\n",
    "print(\"CUDA version:\", torch.version.cuda)\n",
    "print(\"cuDNN version:\", torch.backends.cudnn.version())\n",
    "print(\"Device name:\", torch.cuda.get_device_name(0))"
   ]
  },
  {
   "cell_type": "code",
   "execution_count": null,
   "id": "44e17743",
   "metadata": {},
   "outputs": [
    {
     "name": "stdout",
     "output_type": "stream",
     "text": [
      "showing info https://raw.githubusercontent.com/nltk/nltk_data/gh-pages/index.xml\n"
     ]
    }
   ],
   "source": [
    "import nltk\n",
    "nltk.download()\n",
    "nltk.__version__"
   ]
  }
 ],
 "metadata": {
  "kernelspec": {
   "display_name": "base",
   "language": "python",
   "name": "python3"
  },
  "language_info": {
   "codemirror_mode": {
    "name": "ipython",
    "version": 3
   },
   "file_extension": ".py",
   "mimetype": "text/x-python",
   "name": "python",
   "nbconvert_exporter": "python",
   "pygments_lexer": "ipython3",
   "version": "3.12.7"
  }
 },
 "nbformat": 4,
 "nbformat_minor": 5
}
