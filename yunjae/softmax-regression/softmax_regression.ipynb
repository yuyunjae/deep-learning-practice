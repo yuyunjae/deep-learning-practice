{
 "cells": [
  {
   "cell_type": "markdown",
   "id": "10def2db",
   "metadata": {},
   "source": [
    "# Softmax Regression"
   ]
  },
  {
   "cell_type": "code",
   "execution_count": 1,
   "id": "7072fc33",
   "metadata": {},
   "outputs": [
    {
     "data": {
      "text/plain": [
       "<torch._C.Generator at 0x2bfa181f0d0>"
      ]
     },
     "execution_count": 1,
     "metadata": {},
     "output_type": "execute_result"
    }
   ],
   "source": [
    "import torch\n",
    "import torch.nn.functional as F\n",
    "torch.manual_seed(42)"
   ]
  },
  {
   "cell_type": "code",
   "execution_count": 2,
   "id": "f77976ac",
   "metadata": {},
   "outputs": [],
   "source": [
    "z = torch.FloatTensor([1, 2, 3])"
   ]
  },
  {
   "cell_type": "code",
   "execution_count": 6,
   "id": "45ada8b1",
   "metadata": {},
   "outputs": [
    {
     "name": "stdout",
     "output_type": "stream",
     "text": [
      "tensor([0.0900, 0.2447, 0.6652])\n",
      "tensor(1.)\n"
     ]
    }
   ],
   "source": [
    "hypothesis = F.softmax(z, dim=0)\n",
    "print(hypothesis)\n",
    "print(hypothesis.sum())"
   ]
  },
  {
   "cell_type": "code",
   "execution_count": 55,
   "id": "cbc4026a",
   "metadata": {},
   "outputs": [
    {
     "name": "stdout",
     "output_type": "stream",
     "text": [
      "tensor([[0.1836, 0.1593, 0.1500, 0.2396, 0.2675],\n",
      "        [0.1922, 0.1806, 0.2034, 0.1960, 0.2278],\n",
      "        [0.2148, 0.1186, 0.1553, 0.2845, 0.2269]], grad_fn=<SoftmaxBackward0>)\n"
     ]
    }
   ],
   "source": [
    "z = torch.rand(3, 5, requires_grad=True)\n",
    "hypothesis = F.softmax(z, dim=1)\n",
    "print(hypothesis)"
   ]
  },
  {
   "cell_type": "code",
   "execution_count": 56,
   "id": "39dd5c9c",
   "metadata": {},
   "outputs": [
    {
     "name": "stdout",
     "output_type": "stream",
     "text": [
      "tensor([4, 2, 0])\n"
     ]
    }
   ],
   "source": [
    "y = torch.randint(5, (3,)).long()\n",
    "print(y)    "
   ]
  },
  {
   "cell_type": "code",
   "execution_count": 57,
   "id": "2d0cc654",
   "metadata": {},
   "outputs": [
    {
     "data": {
      "text/plain": [
       "tensor([[0., 0., 0., 0., 1.],\n",
       "        [0., 0., 1., 0., 0.],\n",
       "        [1., 0., 0., 0., 0.]])"
      ]
     },
     "execution_count": 57,
     "metadata": {},
     "output_type": "execute_result"
    }
   ],
   "source": [
    "# 모든 원소가 0의 값을 가진 3 x 5 텐서 생성\n",
    "y_one_hot = torch.zeros_like(hypothesis)\n",
    "# one hot encoding\n",
    "y_one_hot.scatter_(1, y.unsqueeze(1), 1)\n",
    "\n",
    "# print(y.unsqueeze(1))"
   ]
  },
  {
   "cell_type": "code",
   "execution_count": 58,
   "id": "b70f84c7",
   "metadata": {},
   "outputs": [
    {
     "name": "stdout",
     "output_type": "stream",
     "text": [
      "tensor(1.4830, grad_fn=<MeanBackward0>)\n"
     ]
    }
   ],
   "source": [
    "# cost function 구현\n",
    "cost = (y_one_hot * -torch.log(hypothesis)).sum(dim= 1).mean()\n",
    "print(cost)"
   ]
  },
  {
   "cell_type": "code",
   "execution_count": 60,
   "id": "eacbde6e",
   "metadata": {},
   "outputs": [
    {
     "name": "stdout",
     "output_type": "stream",
     "text": [
      "tensor([[-1.6949, -1.8367, -1.8974, -1.4288, -1.3187],\n",
      "        [-1.6492, -1.7116, -1.5924, -1.6295, -1.4795],\n",
      "        [-1.5380, -2.1323, -1.8626, -1.2571, -1.4834]], grad_fn=<LogBackward0>)\n",
      "tensor([[-1.6949, -1.8367, -1.8974, -1.4288, -1.3187],\n",
      "        [-1.6492, -1.7116, -1.5924, -1.6295, -1.4795],\n",
      "        [-1.5380, -2.1323, -1.8626, -1.2571, -1.4834]],\n",
      "       grad_fn=<LogSoftmaxBackward0>)\n"
     ]
    }
   ],
   "source": [
    "# nn.functional에 있는 log_softmax를 이용해서 구하기\n",
    "# torch.log(F.softmax()) = F.log_softmax()\n",
    "hypothesis = F.softmax(z, dim=1)\n",
    "print(torch.log(hypothesis))\n",
    "print(F.log_softmax(z, dim = 1))"
   ]
  },
  {
   "cell_type": "code",
   "execution_count": 61,
   "id": "aa1bc78a",
   "metadata": {},
   "outputs": [
    {
     "name": "stdout",
     "output_type": "stream",
     "text": [
      "tensor(1.4830, grad_fn=<MeanBackward0>)\n",
      "tensor(1.4830, grad_fn=<MeanBackward0>)\n",
      "tensor(1.4830, grad_fn=<NllLossBackward0>)\n",
      "tensor(1.4830, grad_fn=<NllLossBackward0>)\n"
     ]
    }
   ],
   "source": [
    "# nn.functional에 있는 cross_entropy를 이용해서 구하기\n",
    "# F.nll_loss(F.log_softmax(), y_data) => F.cross_entropy()\n",
    "# nll : Negative Log Likelihood\n",
    "print((y_one_hot * -torch.log(F.softmax(z, dim = 1))).sum(dim=1).mean())\n",
    "print((y_one_hot * -F.log_softmax(z, dim =1)).sum(dim=1).mean())\n",
    "print(F.nll_loss(F.log_softmax(z, dim=1), y))\n",
    "print(F.cross_entropy(z, y))"
   ]
  },
  {
   "cell_type": "code",
   "execution_count": null,
   "id": "fbf965e0",
   "metadata": {},
   "outputs": [
    {
     "data": {
      "text/plain": [
       "<torch._C.Generator at 0x2bfa181f0d0>"
      ]
     },
     "execution_count": 62,
     "metadata": {},
     "output_type": "execute_result"
    }
   ],
   "source": [
    "# 구현 (low level - not use F.cross_entropy())\n",
    "import torch\n",
    "import torch.nn as nn\n",
    "import torch.nn.functional as F\n",
    "import torch.optim as optim\n",
    "\n",
    "torch.manual_seed(42)"
   ]
  },
  {
   "cell_type": "code",
   "execution_count": 69,
   "id": "97a6e133",
   "metadata": {},
   "outputs": [
    {
     "name": "stdout",
     "output_type": "stream",
     "text": [
      "torch.Size([8, 4]) torch.Size([8])\n"
     ]
    }
   ],
   "source": [
    "x_train = [[1, 2, 1, 1], [2, 1, 3, 2], [3, 1, 3, 4], [4, 1, 5, 5], [1, 7, 5, 5], [1, 2, 5, 6], [1, 6, 6, 6], [1, 7, 7, 7]]\n",
    "y_train = [2, 2, 2, 1, 1, 1, 0, 0]\n",
    "x_train = torch.FloatTensor(x_train)\n",
    "y_train = torch.LongTensor(y_train)\n",
    "print(x_train.shape, y_train.shape)"
   ]
  },
  {
   "cell_type": "code",
   "execution_count": 70,
   "id": "55119542",
   "metadata": {},
   "outputs": [
    {
     "name": "stdout",
     "output_type": "stream",
     "text": [
      "torch.Size([8, 3])\n"
     ]
    }
   ],
   "source": [
    "y_one_hot = torch.zeros(8, 3)\n",
    "y_one_hot.scatter_(1, y_train.unsqueeze(1), 1)\n",
    "print(y_one_hot.shape)"
   ]
  },
  {
   "cell_type": "code",
   "execution_count": 74,
   "id": "89306224",
   "metadata": {},
   "outputs": [],
   "source": [
    "# 모델 초기화\n",
    "W = torch.zeros((4, 3), requires_grad=True)\n",
    "b = torch.zeros((1, 3), requires_grad=True)\n",
    "\n",
    "# optimizer 설정\n",
    "optimizer = optim.SGD([W, b], lr=0.1)"
   ]
  },
  {
   "cell_type": "code",
   "execution_count": null,
   "id": "fa9b1c4c",
   "metadata": {},
   "outputs": [
    {
     "name": "stdout",
     "output_type": "stream",
     "text": [
      "Epoch:    0/1000, Cost: 1.098612\n",
      "Epoch:  100/1000, Cost: 0.704200\n",
      "Epoch:  200/1000, Cost: 0.623000\n",
      "Epoch:  300/1000, Cost: 0.565717\n",
      "Epoch:  400/1000, Cost: 0.515291\n",
      "Epoch:  500/1000, Cost: 0.467662\n",
      "Epoch:  600/1000, Cost: 0.421278\n",
      "Epoch:  700/1000, Cost: 0.375402\n",
      "Epoch:  800/1000, Cost: 0.329765\n",
      "Epoch:  900/1000, Cost: 0.285072\n",
      "Epoch: 1000/1000, Cost: 0.248155\n"
     ]
    }
   ],
   "source": [
    "nb_epochs = 1000\n",
    "for epoch in range(nb_epochs + 1):\n",
    "    hypothesis = F.softmax(x_train.matmul(W)+ b, dim = 1)\n",
    "    cost = (y_one_hot * -torch.log(hypothesis)).sum(dim = 1).mean()\n",
    "    \n",
    "    optimizer.zero_grad()\n",
    "    cost.backward()\n",
    "    optimizer.step()\n",
    "    \n",
    "    if epoch % 100 == 0:\n",
    "        print('Epoch: {:4d}/{}, Cost: {:.6f}'.format(epoch, nb_epochs, cost.item()))"
   ]
  },
  {
   "cell_type": "code",
   "execution_count": 78,
   "id": "c2c553c1",
   "metadata": {},
   "outputs": [
    {
     "name": "stdout",
     "output_type": "stream",
     "text": [
      "tensor([[1.1909e-04, 7.5725e-03, 9.9231e-01],\n",
      "        [3.9348e-03, 1.3411e-01, 8.6196e-01],\n",
      "        [6.9056e-06, 2.6787e-01, 7.3212e-01],\n",
      "        [3.1690e-05, 7.8606e-01, 2.1390e-01],\n",
      "        [3.2070e-01, 6.5953e-01, 1.9770e-02],\n",
      "        [1.6596e-01, 8.3388e-01, 1.6129e-04],\n",
      "        [6.3023e-01, 3.6950e-01, 2.7694e-04],\n",
      "        [8.0781e-01, 1.9218e-01, 1.4840e-05]], grad_fn=<SoftmaxBackward0>)\n"
     ]
    }
   ],
   "source": [
    "print(F.softmax(x_train.matmul(W) + b, dim = 1))"
   ]
  },
  {
   "cell_type": "code",
   "execution_count": 111,
   "id": "8e911c2b",
   "metadata": {},
   "outputs": [
    {
     "name": "stdout",
     "output_type": "stream",
     "text": [
      "Epoch    0/1000 Cost: 1.098612\n",
      "Epoch  100/1000 Cost: 0.704199\n",
      "Epoch  200/1000 Cost: 0.622999\n",
      "Epoch  300/1000 Cost: 0.565717\n",
      "Epoch  400/1000 Cost: 0.515291\n",
      "Epoch  500/1000 Cost: 0.467662\n",
      "Epoch  600/1000 Cost: 0.421278\n",
      "Epoch  700/1000 Cost: 0.375401\n",
      "Epoch  800/1000 Cost: 0.329766\n",
      "Epoch  900/1000 Cost: 0.285073\n",
      "Epoch 1000/1000 Cost: 0.248155\n"
     ]
    }
   ],
   "source": [
    "# 구현 (high level - use F.cross_entropy())\n",
    "\n",
    "W = torch.zeros((4, 3), requires_grad=True)\n",
    "b = torch.zeros((1, 3), requires_grad=True)\n",
    "\n",
    "optimizer = optim.SGD([W, b], lr = 0.1)\n",
    "\n",
    "nb_epochs = 1000\n",
    "for epoch in range(nb_epochs + 1):\n",
    "    z = x_train.matmul(W) + b\n",
    "    cost = F.cross_entropy(z, y_train)\n",
    "    \n",
    "    optimizer.zero_grad()\n",
    "    cost.backward()\n",
    "    optimizer.step()\n",
    "    \n",
    "    if epoch % 100 == 0:\n",
    "        print('Epoch {:4d}/{} Cost: {:.6f}'.format(epoch, nb_epochs, cost.item()))\n",
    "    \n",
    "    "
   ]
  },
  {
   "cell_type": "code",
   "execution_count": 124,
   "id": "5d4dd4ce",
   "metadata": {},
   "outputs": [
    {
     "name": "stdout",
     "output_type": "stream",
     "text": [
      "Epoch:    0/1000, Cost: 2.035638\n",
      "Epoch:  100/1000, Cost: 0.723868\n",
      "Epoch:  200/1000, Cost: 0.641093\n",
      "Epoch:  300/1000, Cost: 0.583296\n",
      "Epoch:  400/1000, Cost: 0.532822\n",
      "Epoch:  500/1000, Cost: 0.485345\n",
      "Epoch:  600/1000, Cost: 0.439220\n",
      "Epoch:  700/1000, Cost: 0.393651\n",
      "Epoch:  800/1000, Cost: 0.348252\n",
      "Epoch:  900/1000, Cost: 0.303179\n",
      "Epoch: 1000/1000, Cost: 0.261096\n"
     ]
    }
   ],
   "source": [
    "# 모델을 선언 및 초기화. 4개의 특성을 가지고 3개의 클래스로 분류. input_dim=4, output_dim=3.\n",
    "torch.manual_seed(42)\n",
    "model = nn.Linear(4, 3) # W : (4, 3)과 b : (,3) 이 내부적으로 자동으로 만들어짐\n",
    "\n",
    "optimizer = optim.SGD(model.parameters(), lr=0.1)\n",
    "\n",
    "nb_epochs = 1000\n",
    "for epoch in range(nb_epochs + 1):\n",
    "    prediction = model(x_train)\n",
    "    \n",
    "    # cross_entropy함수를 이용하기 떄문에 굳이 softmax함수나 y_one_hot을 따로 만들지 않음.\n",
    "    cost = F.cross_entropy(prediction, y_train) \n",
    "    optimizer.zero_grad()\n",
    "    cost.backward()\n",
    "    optimizer.step()\n",
    "    \n",
    "    if epoch % 100 == 0:\n",
    "        print('Epoch: {:4d}/{}, Cost: {:.6f}'.format(epoch, nb_epochs, cost.item()))"
   ]
  },
  {
   "cell_type": "code",
   "execution_count": 118,
   "id": "c7a547c4",
   "metadata": {},
   "outputs": [],
   "source": [
    "# class 이용\n",
    "class SoftmaxClassifierModel(nn.Module):\n",
    "    def __init__(self):\n",
    "        super().__init__()\n",
    "        self.linear = nn.Linear(4, 3)\n",
    "        \n",
    "    def forward(self, x):\n",
    "        return self.linear(x)"
   ]
  },
  {
   "cell_type": "code",
   "execution_count": null,
   "id": "e676367f",
   "metadata": {},
   "outputs": [
    {
     "name": "stdout",
     "output_type": "stream",
     "text": [
      "Epoch:    0/1000, Cost: 2.035638\n",
      "Epoch:  100/1000, Cost: 0.723868\n",
      "Epoch:  200/1000, Cost: 0.641093\n",
      "Epoch:  300/1000, Cost: 0.583296\n",
      "Epoch:  400/1000, Cost: 0.532822\n",
      "Epoch:  500/1000, Cost: 0.485345\n",
      "Epoch:  600/1000, Cost: 0.439220\n",
      "Epoch:  700/1000, Cost: 0.393651\n",
      "Epoch:  800/1000, Cost: 0.348252\n",
      "Epoch:  900/1000, Cost: 0.303179\n",
      "Epoch: 1000/1000, Cost: 0.261096\n"
     ]
    }
   ],
   "source": [
    "torch.manual_seed(42) # 순서를 다시 42 seed로 고정\n",
    "model = SoftmaxClassifierModel()\n",
    "optimizer = optim.SGD(model.parameters(), lr=0.1)\n",
    "\n",
    "nb_epochs = 1000\n",
    "\n",
    "for epoch in range(nb_epochs + 1):\n",
    "    prediction = model(x_train)\n",
    "    cost = F.cross_entropy(prediction, y_train)\n",
    "    \n",
    "    optimizer.zero_grad()\n",
    "    cost.backward()\n",
    "    optimizer.step()\n",
    "    \n",
    "    if epoch % 100 == 0:\n",
    "        print('Epoch: {:4d}/{}, Cost: {:.6f}'.format(epoch, nb_epochs, cost.item()))"
   ]
  },
  {
   "cell_type": "code",
   "execution_count": 108,
   "id": "2e5f6f8f",
   "metadata": {},
   "outputs": [
    {
     "name": "stdout",
     "output_type": "stream",
     "text": [
      "tensor([[1.2506e-04, 7.4764e-03, 9.9240e-01],\n",
      "        [4.0909e-03, 1.3132e-01, 8.6459e-01],\n",
      "        [5.3603e-06, 2.6328e-01, 7.3671e-01],\n",
      "        [2.4481e-05, 7.8217e-01, 2.1780e-01],\n",
      "        [3.3056e-01, 6.4963e-01, 1.9818e-02],\n",
      "        [1.7142e-01, 8.2840e-01, 1.7474e-04],\n",
      "        [6.4769e-01, 3.5203e-01, 2.7602e-04],\n",
      "        [8.1926e-01, 1.8073e-01, 1.4660e-05]], grad_fn=<SoftmaxBackward0>)\n"
     ]
    }
   ],
   "source": [
    "print(F.softmax(model(x_train), dim=1))"
   ]
  }
 ],
 "metadata": {
  "kernelspec": {
   "display_name": "base",
   "language": "python",
   "name": "python3"
  },
  "language_info": {
   "codemirror_mode": {
    "name": "ipython",
    "version": 3
   },
   "file_extension": ".py",
   "mimetype": "text/x-python",
   "name": "python",
   "nbconvert_exporter": "python",
   "pygments_lexer": "ipython3",
   "version": "3.12.7"
  }
 },
 "nbformat": 4,
 "nbformat_minor": 5
}
