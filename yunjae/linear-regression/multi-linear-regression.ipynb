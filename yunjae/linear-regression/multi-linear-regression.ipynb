{
 "cells": [
  {
   "cell_type": "markdown",
   "id": "f0107b88",
   "metadata": {},
   "source": [
    "Multi Linear Regression"
   ]
  },
  {
   "cell_type": "code",
   "execution_count": null,
   "id": "ddc56e4d",
   "metadata": {},
   "outputs": [],
   "source": [
    "import torch\n",
    "import torch.nn as nn\n",
    "import torch.nn.functional as F\n",
    "import torch.optim as optim"
   ]
  },
  {
   "cell_type": "code",
   "execution_count": null,
   "id": "03f2d433",
   "metadata": {},
   "outputs": [
    {
     "data": {
      "text/plain": [
       "<torch._C.Generator at 0x23e5689ee30>"
      ]
     },
     "execution_count": 2,
     "metadata": {},
     "output_type": "execute_result"
    }
   ],
   "source": [
    "# 랜덤 시드 설정정\n",
    "torch.manual_seed(42)"
   ]
  },
  {
   "cell_type": "code",
   "execution_count": 4,
   "id": "a8dbf9b6",
   "metadata": {},
   "outputs": [],
   "source": [
    "# 훈련 데이터터\n",
    "x1_train = torch.FloatTensor([[73], [93], [89], [96], [73]])\n",
    "x2_train = torch.FloatTensor([[80], [88], [91], [98], [66]])\n",
    "x3_train = torch.FloatTensor([[75], [93], [90], [100], [70]])\n",
    "y_train = torch.FloatTensor([[152], [185], [180], [196], [143]])\n",
    "\n",
    "# 가중치 w와 편향 b 초기화\n",
    "w1 = torch.zeros(1, requires_grad=True)\n",
    "w2 = torch.zeros(1, requires_grad=True)\n",
    "w3 = torch.zeros(1, requires_grad=True)\n",
    "b = torch.zeros(1, requires_grad=True)"
   ]
  },
  {
   "cell_type": "code",
   "execution_count": 20,
   "id": "3d6e64ae",
   "metadata": {},
   "outputs": [
    {
     "name": "stdout",
     "output_type": "stream",
     "text": [
      "Epoch 0/1000, w1:0.877, w2:0.466, w3:0.669, b:0.018, Cost:0.651750\n",
      "Epoch 100/1000, w1:0.879, w2:0.465, w3:0.668, b:0.018, Cost:0.643440\n",
      "Epoch 200/1000, w1:0.882, w2:0.463, w3:0.668, b:0.018, Cost:0.635483\n",
      "Epoch 300/1000, w1:0.884, w2:0.462, w3:0.667, b:0.018, Cost:0.627891\n",
      "Epoch 400/1000, w1:0.886, w2:0.460, w3:0.666, b:0.019, Cost:0.620623\n",
      "Epoch 500/1000, w1:0.888, w2:0.459, w3:0.666, b:0.019, Cost:0.613669\n",
      "Epoch 600/1000, w1:0.890, w2:0.457, w3:0.665, b:0.019, Cost:0.607002\n",
      "Epoch 700/1000, w1:0.892, w2:0.456, w3:0.665, b:0.019, Cost:0.600627\n",
      "Epoch 800/1000, w1:0.894, w2:0.454, w3:0.664, b:0.019, Cost:0.594512\n",
      "Epoch 900/1000, w1:0.896, w2:0.453, w3:0.663, b:0.019, Cost:0.588654\n",
      "Epoch 1000/1000, w1:0.898, w2:0.452, w3:0.663, b:0.020, Cost:0.583038\n"
     ]
    }
   ],
   "source": [
    "# optimizer 설정\n",
    "optimizer = optim.SGD([w1, w2, w3, b], lr=1e-5)\n",
    "\n",
    "nb_epochs = 1000\n",
    "for epoch in range(nb_epochs + 1):\n",
    "    # H(x) 계산\n",
    "    hypothesis = x1_train * w1 + x2_train * w2 + x3_train * w3 + b\n",
    "    \n",
    "    # cost 계산\n",
    "    cost = torch.mean((y_train - hypothesis) ** 2)\n",
    "    \n",
    "    # cost로 H(x)개선\n",
    "    optimizer.zero_grad()\n",
    "    cost.backward()\n",
    "    optimizer.step()\n",
    "    \n",
    "    if epoch % 100 == 0:\n",
    "        print('Epoch {}/{}, w1:{:.3f}, w2:{:.3f}, w3:{:.3f}, b:{:.3f}, Cost:{:.6f}'.format(epoch, nb_epochs, w1.item(), w2.item(), w3.item(), b.item(), cost.item()))"
   ]
  },
  {
   "cell_type": "markdown",
   "id": "59d6e3c2",
   "metadata": {},
   "source": [
    "## x의 개수가 매우 많아지면 x와 w를 각각 일일이 선언하는 것은 자원낭비. -> 행렬을 이용해서 처리함."
   ]
  },
  {
   "cell_type": "code",
   "execution_count": 22,
   "id": "3c8d2bee",
   "metadata": {},
   "outputs": [
    {
     "name": "stdout",
     "output_type": "stream",
     "text": [
      "torch.Size([5, 3])\n",
      "torch.Size([5, 1])\n"
     ]
    }
   ],
   "source": [
    "x_train = torch.FloatTensor([[73, 80, 75], [93, 88, 93], [89, 91, 80], [96, 98, 100], [73, 66, 70]])\n",
    "y_train = torch.FloatTensor([[152], [185], [180], [196], [142]])\n",
    "\n",
    "print(x_train.shape)\n",
    "print(y_train.shape)\n"
   ]
  },
  {
   "cell_type": "code",
   "execution_count": 91,
   "id": "6ef14665",
   "metadata": {},
   "outputs": [],
   "source": [
    "W = torch.zeros((3, 1), requires_grad=True)\n",
    "b = torch.zeros(1, requires_grad=True)\n",
    "\n",
    "# hypothesis = x_train.matmul(W) + b\n",
    "# hypothesis = x_train @ W + b"
   ]
  },
  {
   "cell_type": "code",
   "execution_count": null,
   "id": "22be7a65",
   "metadata": {},
   "outputs": [
    {
     "name": "stdout",
     "output_type": "stream",
     "text": [
      "Epoch 0/20, hypothesis: tensor([0., 0., 0., 0., 0.]), Cost: 29661.800781\n",
      "Epoch 1/20, hypothesis: tensor([66.7178, 80.1701, 76.1025, 86.0194, 61.1565]), Cost: 9537.694336\n",
      "Epoch 2/20, hypothesis: tensor([104.5421, 125.6208, 119.2478, 134.7862,  95.8280]), Cost: 3069.590088\n",
      "Epoch 3/20, hypothesis: tensor([125.9858, 151.3882, 143.7087, 162.4333, 115.4844]), Cost: 990.670898\n",
      "Epoch 4/20, hypothesis: tensor([138.1429, 165.9963, 157.5768, 178.1071, 126.6283]), Cost: 322.482086\n",
      "Epoch 5/20, hypothesis: tensor([145.0350, 174.2780, 165.4395, 186.9928, 132.9461]), Cost: 107.717064\n",
      "Epoch 6/20, hypothesis: tensor([148.9423, 178.9730, 169.8976, 192.0301, 136.5279]), Cost: 38.687496\n",
      "Epoch 7/20, hypothesis: tensor([151.1574, 181.6346, 172.4254, 194.8856, 138.5585]), Cost: 16.499043\n",
      "Epoch 8/20, hypothesis: tensor([152.4131, 183.1435, 173.8590, 196.5043, 139.7097]), Cost: 9.365656\n",
      "Epoch 9/20, hypothesis: tensor([153.1250, 183.9988, 174.6723, 197.4217, 140.3625]), Cost: 7.071114\n",
      "Epoch 10/20, hypothesis: tensor([153.5285, 184.4835, 175.1338, 197.9415, 140.7325]), Cost: 6.331847\n",
      "Epoch 11/20, hypothesis: tensor([153.7572, 184.7582, 175.3958, 198.2360, 140.9424]), Cost: 6.092532\n",
      "Epoch 12/20, hypothesis: tensor([153.8868, 184.9138, 175.5449, 198.4026, 141.0613]), Cost: 6.013817\n",
      "Epoch 13/20, hypothesis: tensor([153.9602, 185.0019, 175.6299, 198.4969, 141.1288]), Cost: 5.986785\n",
      "Epoch 14/20, hypothesis: tensor([154.0017, 185.0517, 175.6785, 198.5500, 141.1671]), Cost: 5.976325\n",
      "Epoch 15/20, hypothesis: tensor([154.0252, 185.0798, 175.7065, 198.5800, 141.1888]), Cost: 5.971208\n",
      "Epoch 16/20, hypothesis: tensor([154.0385, 185.0956, 175.7229, 198.5966, 141.2012]), Cost: 5.967835\n",
      "Epoch 17/20, hypothesis: tensor([154.0459, 185.1045, 175.7326, 198.6059, 141.2082]), Cost: 5.964969\n",
      "Epoch 18/20, hypothesis: tensor([154.0501, 185.1094, 175.7386, 198.6108, 141.2122]), Cost: 5.962291\n",
      "Epoch 19/20, hypothesis: tensor([154.0524, 185.1120, 175.7424, 198.6134, 141.2145]), Cost: 5.959664\n",
      "Epoch 20/20, hypothesis: tensor([154.0536, 185.1134, 175.7451, 198.6145, 141.2158]), Cost: 5.957089\n"
     ]
    }
   ],
   "source": [
    "optimizer = optim.SGD([W, b], lr=1e-5)\n",
    "nb_epochs = 20\n",
    "for epoch in range(nb_epochs + 1):\n",
    "    # H(x) 계산 (행렬곱 연산)\n",
    "    # hypothesis = x_train.matmul(W) + b\n",
    "    hypothesis = x_train @ W + b \n",
    "    \n",
    "    # cost 계산\n",
    "    cost = torch.mean((y_train - hypothesis) ** 2)\n",
    "    \n",
    "    # cost로 H(x) 개선\n",
    "    optimizer.zero_grad()\n",
    "    cost.backward()\n",
    "    optimizer.step()\n",
    "    \n",
    "    print('Epoch {}/{}, hypothesis: {}, Cost: {:.6f}'.format(epoch, nb_epochs, hypothesis.squeeze().detach(), cost.item()))"
   ]
  },
  {
   "cell_type": "code",
   "execution_count": 93,
   "id": "9f41c2c2",
   "metadata": {},
   "outputs": [
    {
     "name": "stdout",
     "output_type": "stream",
     "text": [
      "Predicted value for input [75.0, 85.0, 72.0]: 156.8051300048828\n"
     ]
    }
   ],
   "source": [
    "with torch.no_grad():\n",
    "    new_input = torch.FloatTensor([[75, 85, 72]]) # 예측하고 싶은 임의의 입력\n",
    "    prediction = new_input.matmul(W) + b\n",
    "    print('Predicted value for input {}: {}'.format(new_input.squeeze().tolist(), prediction.item()))"
   ]
  }
 ],
 "metadata": {
  "kernelspec": {
   "display_name": "base",
   "language": "python",
   "name": "python3"
  },
  "language_info": {
   "codemirror_mode": {
    "name": "ipython",
    "version": 3
   },
   "file_extension": ".py",
   "mimetype": "text/x-python",
   "name": "python",
   "nbconvert_exporter": "python",
   "pygments_lexer": "ipython3",
   "version": "3.12.7"
  }
 },
 "nbformat": 4,
 "nbformat_minor": 5
}
