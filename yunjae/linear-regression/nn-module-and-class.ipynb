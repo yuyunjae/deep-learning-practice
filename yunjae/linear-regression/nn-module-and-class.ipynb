{
 "cells": [
  {
   "cell_type": "markdown",
   "id": "bb14c3af",
   "metadata": {},
   "source": [
    "# nn.Module과 클래스로 linear regression 구현하기 (single linear regression)"
   ]
  },
  {
   "cell_type": "code",
   "execution_count": 3,
   "id": "7e4193ed",
   "metadata": {},
   "outputs": [],
   "source": [
    "import torch\n",
    "import torch.nn as nn\n",
    "import torch.nn.functional as F\n"
   ]
  },
  {
   "cell_type": "code",
   "execution_count": null,
   "id": "22d03e57",
   "metadata": {},
   "outputs": [],
   "source": [
    "# model = nn.Linear(input_dim, output_dim)\n",
    "# cost = F.mse_loss(prediction, y_train)"
   ]
  },
  {
   "cell_type": "code",
   "execution_count": 4,
   "id": "cde01332",
   "metadata": {},
   "outputs": [
    {
     "data": {
      "text/plain": [
       "<torch._C.Generator at 0x1a82536ee90>"
      ]
     },
     "execution_count": 4,
     "metadata": {},
     "output_type": "execute_result"
    }
   ],
   "source": [
    "torch.manual_seed(42)"
   ]
  },
  {
   "cell_type": "code",
   "execution_count": 6,
   "id": "024b5de9",
   "metadata": {},
   "outputs": [
    {
     "name": "stdout",
     "output_type": "stream",
     "text": [
      "[Parameter containing:\n",
      "tensor([[-0.2343]], requires_grad=True), Parameter containing:\n",
      "tensor([0.9186], requires_grad=True)]\n"
     ]
    }
   ],
   "source": [
    "# 데이터\n",
    "x_train = torch.FloatTensor([[1], [2], [3]])\n",
    "y_train = torch.FloatTensor([[2], [4], [6]])\n",
    "\n",
    "# 모델을 선언 및 초기화. 단순 선형 회귀이므로 input_dim = 1, ouypuy_dim = 1\n",
    "model = nn.Linear(1, 1)\n",
    "print(list(model.parameters()))"
   ]
  },
  {
   "cell_type": "code",
   "execution_count": 7,
   "id": "6f7a1f1a",
   "metadata": {},
   "outputs": [
    {
     "name": "stdout",
     "output_type": "stream",
     "text": [
      "Epoch    0/2000 Cost: 15.930012\n",
      "Epoch  100/2000 Cost: 0.225004\n",
      "Epoch  200/2000 Cost: 0.139039\n",
      "Epoch  300/2000 Cost: 0.085917\n",
      "Epoch  400/2000 Cost: 0.053092\n",
      "Epoch  500/2000 Cost: 0.032808\n",
      "Epoch  600/2000 Cost: 0.020273\n",
      "Epoch  700/2000 Cost: 0.012528\n",
      "Epoch  800/2000 Cost: 0.007741\n",
      "Epoch  900/2000 Cost: 0.004784\n",
      "Epoch 1000/2000 Cost: 0.002956\n",
      "Epoch 1100/2000 Cost: 0.001827\n",
      "Epoch 1200/2000 Cost: 0.001129\n",
      "Epoch 1300/2000 Cost: 0.000697\n",
      "Epoch 1400/2000 Cost: 0.000431\n",
      "Epoch 1500/2000 Cost: 0.000266\n",
      "Epoch 1600/2000 Cost: 0.000165\n",
      "Epoch 1700/2000 Cost: 0.000102\n",
      "Epoch 1800/2000 Cost: 0.000063\n",
      "Epoch 1900/2000 Cost: 0.000039\n",
      "Epoch 2000/2000 Cost: 0.000024\n"
     ]
    }
   ],
   "source": [
    "# optimizer 설정. 경사 하강법 SGD를 사용하고 learning rate를 의미하는 lr은 0.01\n",
    "optimizer = torch.optim.SGD(model.parameters(), lr=0.01)\n",
    "\n",
    "nb_epochs = 2000\n",
    "for epoch in range(nb_epochs + 1):\n",
    "    # H(x) 계산\n",
    "    prediction = model(x_train)\n",
    "    \n",
    "    # cost 계산\n",
    "    cost = F.mse_loss(prediction, y_train)\n",
    "    \n",
    "    # cost로 H(x) 계산\n",
    "    optimizer.zero_grad()\n",
    "    cost.backward()\n",
    "    optimizer.step()\n",
    "    \n",
    "    if epoch % 100 == 0:\n",
    "        print('Epoch {:4d}/{} Cost: {:0.6f}'.format(epoch, nb_epochs, cost.item()))"
   ]
  },
  {
   "cell_type": "code",
   "execution_count": 8,
   "id": "dfc97a55",
   "metadata": {},
   "outputs": [
    {
     "name": "stdout",
     "output_type": "stream",
     "text": [
      "훈련 후 입력이 4일 떄의 예측값 :  tensor([7.9902], grad_fn=<ViewBackward0>)\n"
     ]
    }
   ],
   "source": [
    "# 임의의 입력 4를 선어\n",
    "new_var = torch.FloatTensor([4.0])\n",
    "\n",
    "pred_y = model(new_var)\n",
    "print(\"훈련 후 입력이 4일 떄의 예측값 : \", pred_y)"
   ]
  },
  {
   "cell_type": "code",
   "execution_count": 9,
   "id": "84427448",
   "metadata": {},
   "outputs": [
    {
     "name": "stdout",
     "output_type": "stream",
     "text": [
      "[Parameter containing:\n",
      "tensor([[1.9943]], requires_grad=True), Parameter containing:\n",
      "tensor([0.0129], requires_grad=True)]\n"
     ]
    }
   ],
   "source": [
    "# model의 parameters 확인\n",
    "print(list(model.parameters()))"
   ]
  },
  {
   "cell_type": "markdown",
   "id": "4571c87e",
   "metadata": {},
   "source": [
    "# nn.Module과 클래스로 linear regression 구현하기 (multi linear regression)"
   ]
  },
  {
   "cell_type": "code",
   "execution_count": 10,
   "id": "9c8fe6dc",
   "metadata": {},
   "outputs": [
    {
     "data": {
      "text/plain": [
       "<torch._C.Generator at 0x1a82536ee90>"
      ]
     },
     "execution_count": 10,
     "metadata": {},
     "output_type": "execute_result"
    }
   ],
   "source": [
    "import torch \n",
    "import torch.nn as nn\n",
    "import torch.nn.functional as F\n",
    "torch.manual_seed(42)"
   ]
  },
  {
   "cell_type": "code",
   "execution_count": 34,
   "id": "f6c8a29e",
   "metadata": {},
   "outputs": [],
   "source": [
    "# 데이터 \n",
    "x_train = torch.FloatTensor([[73, 80, 75], [93, 88, 93], [89, 91, 90], [96, 98, 100], [73, 66, 70]])\n",
    "y_train = torch.FloatTensor([[152], [185], [180], [196], [142]])"
   ]
  },
  {
   "cell_type": "code",
   "execution_count": 47,
   "id": "aff63a48",
   "metadata": {},
   "outputs": [
    {
     "name": "stdout",
     "output_type": "stream",
     "text": [
      "[Parameter containing:\n",
      "tensor([[ 0.4457,  0.0961, -0.1875]], requires_grad=True), Parameter containing:\n",
      "tensor([0.3568], requires_grad=True)]\n"
     ]
    }
   ],
   "source": [
    "model = nn.Linear(3, 1)\n",
    "print(list(model.parameters()))"
   ]
  },
  {
   "cell_type": "code",
   "execution_count": 48,
   "id": "52172e2e",
   "metadata": {},
   "outputs": [
    {
     "name": "stdout",
     "output_type": "stream",
     "text": [
      "Epoch    0/2000 Cost: 20113.572266\n",
      "Epoch  100/2000 Cost: 0.410002\n",
      "Epoch  200/2000 Cost: 0.397077\n",
      "Epoch  300/2000 Cost: 0.384827\n",
      "Epoch  400/2000 Cost: 0.373219\n",
      "Epoch  500/2000 Cost: 0.362216\n",
      "Epoch  600/2000 Cost: 0.351808\n",
      "Epoch  700/2000 Cost: 0.341933\n",
      "Epoch  800/2000 Cost: 0.332585\n",
      "Epoch  900/2000 Cost: 0.323727\n",
      "Epoch 1000/2000 Cost: 0.315336\n",
      "Epoch 1100/2000 Cost: 0.307384\n",
      "Epoch 1200/2000 Cost: 0.299841\n",
      "Epoch 1300/2000 Cost: 0.292709\n",
      "Epoch 1400/2000 Cost: 0.285938\n",
      "Epoch 1500/2000 Cost: 0.279529\n",
      "Epoch 1600/2000 Cost: 0.273455\n",
      "Epoch 1700/2000 Cost: 0.267706\n",
      "Epoch 1800/2000 Cost: 0.262244\n",
      "Epoch 1900/2000 Cost: 0.257078\n"
     ]
    }
   ],
   "source": [
    "# optimizer = torch.optim.SGD(model.parameters(), lr=1e-5)\n",
    "optimizer = torch.optim.SGD(model.parameters(), lr=1e-5)\n",
    "\n",
    "nb_epochs = 2000\n",
    "for epoch in range(nb_epochs):\n",
    "    # H(x) 계산\n",
    "    prediction = model(x_train)\n",
    "    \n",
    "    # cost 계산\n",
    "    cost = F.mse_loss(prediction, y_train)\n",
    "    \n",
    "    # cost로 H(x) 개선\n",
    "    optimizer.zero_grad()\n",
    "    cost.backward()\n",
    "    optimizer.step()\n",
    "    \n",
    "    if epoch % 100 == 0:\n",
    "        print('Epoch {:4d}/{} Cost: {:.6f}'.format(epoch, nb_epochs, cost.item()))"
   ]
  },
  {
   "cell_type": "code",
   "execution_count": 20,
   "id": "09dadc4f",
   "metadata": {},
   "outputs": [
    {
     "name": "stdout",
     "output_type": "stream",
     "text": [
      "훈련 후 예측값:  tensor([153.0108], grad_fn=<ViewBackward0>)\n",
      "[Parameter containing:\n",
      "tensor([[0.7751, 0.7133, 0.5202]], requires_grad=True), Parameter containing:\n",
      "tensor([0.3501], requires_grad=True)]\n"
     ]
    }
   ],
   "source": [
    "# 결과 확인\n",
    "new_var = torch.FloatTensor([73, 80, 75])\n",
    "pred_y = model(new_var)\n",
    "print(\"훈련 후 예측값: \", pred_y)\n",
    "\n",
    "print(list(model.parameters()))"
   ]
  },
  {
   "cell_type": "markdown",
   "id": "d1801d76",
   "metadata": {},
   "source": [
    "# 모델을 클래스로 구현하기기"
   ]
  },
  {
   "cell_type": "code",
   "execution_count": 49,
   "id": "132a9d39",
   "metadata": {},
   "outputs": [
    {
     "name": "stdout",
     "output_type": "stream",
     "text": [
      "Epoch:    0/2000 Cost: 10.563588\n",
      "Epoch:  100/2000 Cost: 0.163161\n",
      "Epoch:  200/2000 Cost: 0.100823\n",
      "Epoch:  300/2000 Cost: 0.062303\n",
      "Epoch:  400/2000 Cost: 0.038499\n",
      "Epoch:  500/2000 Cost: 0.023790\n",
      "Epoch:  600/2000 Cost: 0.014701\n",
      "Epoch:  700/2000 Cost: 0.009084\n",
      "Epoch:  800/2000 Cost: 0.005614\n",
      "Epoch:  900/2000 Cost: 0.003469\n",
      "Epoch: 1000/2000 Cost: 0.002144\n",
      "Epoch: 1100/2000 Cost: 0.001325\n",
      "Epoch: 1200/2000 Cost: 0.000819\n",
      "Epoch: 1300/2000 Cost: 0.000506\n",
      "Epoch: 1400/2000 Cost: 0.000313\n",
      "Epoch: 1500/2000 Cost: 0.000193\n",
      "Epoch: 1600/2000 Cost: 0.000119\n",
      "Epoch: 1700/2000 Cost: 0.000074\n",
      "Epoch: 1800/2000 Cost: 0.000046\n",
      "Epoch: 1900/2000 Cost: 0.000028\n",
      "Epoch: 2000/2000 Cost: 0.000017\n"
     ]
    }
   ],
   "source": [
    "# single linear regression\n",
    "\n",
    "x_train = torch.FloatTensor([[1], [2], [3]])\n",
    "y_train = torch.FloatTensor([[2], [4], [6]])\n",
    "\n",
    "class LinearRegressionModel(nn.Module):\n",
    "    def __init__(self):\n",
    "        super().__init__()\n",
    "        self.linear = nn.Linear(1, 1)\n",
    "        \n",
    "    def forward(self, x):\n",
    "        return self.linear(x)\n",
    "    \n",
    "model = LinearRegressionModel()\n",
    "\n",
    "optimizer = torch.optim.SGD(model.parameters(), lr=0.01)\n",
    "\n",
    "nb_epochs = 2000\n",
    "for epoch in range(nb_epochs + 1):\n",
    "    prediction = model(x_train)\n",
    "    cost = F.mse_loss(prediction, y_train)\n",
    "    \n",
    "    optimizer.zero_grad()\n",
    "    cost.backward()\n",
    "    optimizer.step()\n",
    "    \n",
    "    if epoch % 100 == 0:\n",
    "        print('Epoch: {:4d}/{} Cost: {:.6f}'.format(epoch, nb_epochs, cost.item()))\n",
    "        \n",
    "    "
   ]
  },
  {
   "cell_type": "code",
   "execution_count": 50,
   "id": "6f34ce66",
   "metadata": {},
   "outputs": [
    {
     "name": "stdout",
     "output_type": "stream",
     "text": [
      "tensor([9.9868], grad_fn=<ViewBackward0>)\n",
      "[Parameter containing:\n",
      "tensor([[1.9952]], requires_grad=True), Parameter containing:\n",
      "tensor([0.0110], requires_grad=True)]\n"
     ]
    }
   ],
   "source": [
    "test = torch.FloatTensor([5])\n",
    "test_result = model(test)\n",
    "print(test_result)\n",
    "print(list(model.parameters()))"
   ]
  },
  {
   "cell_type": "code",
   "execution_count": 52,
   "id": "f569b60f",
   "metadata": {},
   "outputs": [
    {
     "name": "stdout",
     "output_type": "stream",
     "text": [
      "Epoch:    0/2000 Cost: 6240.712402\n",
      "Epoch:  100/2000 Cost: 3.675513\n",
      "Epoch:  200/2000 Cost: 3.499397\n",
      "Epoch:  300/2000 Cost: 3.332561\n",
      "Epoch:  400/2000 Cost: 3.174474\n",
      "Epoch:  500/2000 Cost: 3.024679\n",
      "Epoch:  600/2000 Cost: 2.882750\n",
      "Epoch:  700/2000 Cost: 2.748296\n",
      "Epoch:  800/2000 Cost: 2.620850\n",
      "Epoch:  900/2000 Cost: 2.500140\n",
      "Epoch: 1000/2000 Cost: 2.385702\n",
      "Epoch: 1100/2000 Cost: 2.277272\n",
      "Epoch: 1200/2000 Cost: 2.174541\n",
      "Epoch: 1300/2000 Cost: 2.077169\n",
      "Epoch: 1400/2000 Cost: 1.984925\n",
      "Epoch: 1500/2000 Cost: 1.897483\n",
      "Epoch: 1600/2000 Cost: 1.814616\n",
      "Epoch: 1700/2000 Cost: 1.736091\n",
      "Epoch: 1800/2000 Cost: 1.661669\n",
      "Epoch: 1900/2000 Cost: 1.591135\n",
      "Epoch: 2000/2000 Cost: 1.524280\n"
     ]
    }
   ],
   "source": [
    "# multi linear regression\n",
    "\n",
    "# 데이터\n",
    "x_train = torch.FloatTensor([[73, 80, 75], [93, 88, 93], [89, 91, 90], [96, 98, 100], [73, 66, 70]])\n",
    "y_train = torch.FloatTensor([[152], [185], [180], [196], [142]])\n",
    "\n",
    "class MultivariateLinearRegressionModel(nn.Module):\n",
    "    def __init__(self):\n",
    "        super().__init__()\n",
    "        self.linear = nn.Linear(3, 1)\n",
    "    \n",
    "    def forward(self, x):\n",
    "        return self.linear(x)\n",
    "    \n",
    "model = MultivariateLinearRegressionModel()\n",
    "\n",
    "optimizer = torch.optim.SGD(model.parameters(), lr=1e-5)\n",
    "\n",
    "nb_epochs = 2000\n",
    "for epoch in range(nb_epochs + 1):\n",
    "    prediction = model(x_train)\n",
    "    cost = F.mse_loss(prediction, y_train)\n",
    "    \n",
    "    optimizer.zero_grad()\n",
    "    cost.backward()\n",
    "    optimizer.step()\n",
    "    \n",
    "    \n",
    "    if epoch % 100 == 0:\n",
    "        print('Epoch: {:4d}/{} Cost: {:.6f}'.format(epoch, nb_epochs, cost))"
   ]
  },
  {
   "cell_type": "code",
   "execution_count": null,
   "id": "1bfb16c8",
   "metadata": {},
   "outputs": [
    {
     "name": "stdout",
     "output_type": "stream",
     "text": [
      "tensor([152.7195], grad_fn=<ViewBackward0>)\n",
      "[Parameter containing:\n",
      "tensor([[0.6900, 0.6617, 0.6621]], requires_grad=True), Parameter containing:\n",
      "tensor([-0.2455], requires_grad=True)]\n"
     ]
    }
   ],
   "source": [
    "test = torch.FloatTensor([73, 80, 75])\n",
    "test_result = model(test)\n",
    "print(test_result)\n",
    "print(list(model.parameters()))"
   ]
  }
 ],
 "metadata": {
  "kernelspec": {
   "display_name": "base",
   "language": "python",
   "name": "python3"
  },
  "language_info": {
   "codemirror_mode": {
    "name": "ipython",
    "version": 3
   },
   "file_extension": ".py",
   "mimetype": "text/x-python",
   "name": "python",
   "nbconvert_exporter": "python",
   "pygments_lexer": "ipython3",
   "version": "3.12.7"
  }
 },
 "nbformat": 4,
 "nbformat_minor": 5
}
