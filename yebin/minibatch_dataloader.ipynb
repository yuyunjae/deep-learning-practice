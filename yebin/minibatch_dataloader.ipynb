{
 "cells": [
  {
   "cell_type": "markdown",
   "id": "0e581c6b",
   "metadata": {},
   "source": [
    "### Dataloader"
   ]
  },
  {
   "cell_type": "code",
   "execution_count": 3,
   "id": "b34a4c58",
   "metadata": {},
   "outputs": [],
   "source": [
    "import torch\n",
    "import torch.nn as nn\n",
    "import torch.nn.functional as F"
   ]
  },
  {
   "cell_type": "code",
   "execution_count": 4,
   "id": "ad374d1c",
   "metadata": {},
   "outputs": [],
   "source": [
    "from torch.utils.data import TensorDataset\n",
    "from torch.utils.data import DataLoader"
   ]
  },
  {
   "cell_type": "code",
   "execution_count": 5,
   "id": "70e77791",
   "metadata": {},
   "outputs": [],
   "source": [
    "x_train  =  torch.FloatTensor([[73,  80,  75], \n",
    "                               [93,  88,  93], \n",
    "                               [89,  91,  90], \n",
    "                               [96,  98,  100],   \n",
    "                               [73,  66,  70]])  \n",
    "y_train  =  torch.FloatTensor([[152],  [185],  [180],  [196],  [142]])\n"
   ]
  },
  {
   "cell_type": "code",
   "execution_count": 8,
   "id": "54c610f7",
   "metadata": {},
   "outputs": [],
   "source": [
    "dataset = TensorDataset(x_train, y_train)"
   ]
  },
  {
   "cell_type": "code",
   "execution_count": 9,
   "id": "faf872b9",
   "metadata": {},
   "outputs": [],
   "source": [
    "dataloader = DataLoader(dataset, batch_size=2, shuffle=True)"
   ]
  },
  {
   "cell_type": "code",
   "execution_count": 10,
   "id": "7da77831",
   "metadata": {},
   "outputs": [],
   "source": [
    "model = nn.Linear(3,1)\n",
    "optimizer = torch.optim.SGD(model.parameters(), lr=1e-5)"
   ]
  },
  {
   "cell_type": "code",
   "execution_count": 11,
   "id": "4ceb285c",
   "metadata": {},
   "outputs": [
    {
     "name": "stdout",
     "output_type": "stream",
     "text": [
      "Epoch    0/20 Batch 1/3 Cost: 42696.875000\n",
      "Epoch    0/20 Batch 2/3 Cost: 11199.187500\n",
      "Epoch    0/20 Batch 3/3 Cost: 4683.673828\n",
      "Epoch    1/20 Batch 1/3 Cost: 1131.781982\n",
      "Epoch    1/20 Batch 2/3 Cost: 381.827515\n",
      "Epoch    1/20 Batch 3/3 Cost: 114.223633\n",
      "Epoch    2/20 Batch 1/3 Cost: 25.070709\n",
      "Epoch    2/20 Batch 2/3 Cost: 14.696585\n",
      "Epoch    2/20 Batch 3/3 Cost: 15.737899\n",
      "Epoch    3/20 Batch 1/3 Cost: 1.616705\n",
      "Epoch    3/20 Batch 2/3 Cost: 4.922921\n",
      "Epoch    3/20 Batch 3/3 Cost: 1.088962\n",
      "Epoch    4/20 Batch 1/3 Cost: 3.370894\n",
      "Epoch    4/20 Batch 2/3 Cost: 4.022220\n",
      "Epoch    4/20 Batch 3/3 Cost: 0.638663\n",
      "Epoch    5/20 Batch 1/3 Cost: 0.699388\n",
      "Epoch    5/20 Batch 2/3 Cost: 2.961741\n",
      "Epoch    5/20 Batch 3/3 Cost: 7.596107\n",
      "Epoch    6/20 Batch 1/3 Cost: 4.445807\n",
      "Epoch    6/20 Batch 2/3 Cost: 0.175936\n",
      "Epoch    6/20 Batch 3/3 Cost: 7.031690\n",
      "Epoch    7/20 Batch 1/3 Cost: 5.778664\n",
      "Epoch    7/20 Batch 2/3 Cost: 0.778911\n",
      "Epoch    7/20 Batch 3/3 Cost: 6.287593\n",
      "Epoch    8/20 Batch 1/3 Cost: 2.807477\n",
      "Epoch    8/20 Batch 2/3 Cost: 0.330961\n",
      "Epoch    8/20 Batch 3/3 Cost: 8.857835\n",
      "Epoch    9/20 Batch 1/3 Cost: 0.249555\n",
      "Epoch    9/20 Batch 2/3 Cost: 5.741116\n",
      "Epoch    9/20 Batch 3/3 Cost: 6.262977\n",
      "Epoch   10/20 Batch 1/3 Cost: 2.185494\n",
      "Epoch   10/20 Batch 2/3 Cost: 5.500029\n",
      "Epoch   10/20 Batch 3/3 Cost: 0.084433\n",
      "Epoch   11/20 Batch 1/3 Cost: 0.968730\n",
      "Epoch   11/20 Batch 2/3 Cost: 2.388171\n",
      "Epoch   11/20 Batch 3/3 Cost: 9.578844\n",
      "Epoch   12/20 Batch 1/3 Cost: 0.598793\n",
      "Epoch   12/20 Batch 2/3 Cost: 2.887058\n",
      "Epoch   12/20 Batch 3/3 Cost: 7.613443\n",
      "Epoch   13/20 Batch 1/3 Cost: 5.254401\n",
      "Epoch   13/20 Batch 2/3 Cost: 4.753251\n",
      "Epoch   13/20 Batch 3/3 Cost: 0.176783\n",
      "Epoch   14/20 Batch 1/3 Cost: 0.571025\n",
      "Epoch   14/20 Batch 2/3 Cost: 2.914840\n",
      "Epoch   14/20 Batch 3/3 Cost: 8.246510\n",
      "Epoch   15/20 Batch 1/3 Cost: 4.776210\n",
      "Epoch   15/20 Batch 2/3 Cost: 4.915306\n",
      "Epoch   15/20 Batch 3/3 Cost: 0.152886\n",
      "Epoch   16/20 Batch 1/3 Cost: 0.216944\n",
      "Epoch   16/20 Batch 2/3 Cost: 2.947362\n",
      "Epoch   16/20 Batch 3/3 Cost: 7.651721\n",
      "Epoch   17/20 Batch 1/3 Cost: 6.806368\n",
      "Epoch   17/20 Batch 2/3 Cost: 2.953474\n",
      "Epoch   17/20 Batch 3/3 Cost: 0.278429\n",
      "Epoch   18/20 Batch 1/3 Cost: 2.302795\n",
      "Epoch   18/20 Batch 2/3 Cost: 0.100543\n",
      "Epoch   18/20 Batch 3/3 Cost: 8.280723\n",
      "Epoch   19/20 Batch 1/3 Cost: 4.716660\n",
      "Epoch   19/20 Batch 2/3 Cost: 4.913113\n",
      "Epoch   19/20 Batch 3/3 Cost: 0.145822\n",
      "Epoch   20/20 Batch 1/3 Cost: 3.050783\n",
      "Epoch   20/20 Batch 2/3 Cost: 0.880642\n",
      "Epoch   20/20 Batch 3/3 Cost: 6.865094\n"
     ]
    }
   ],
   "source": [
    "nb_epochs = 20\n",
    "for epoch in range(nb_epochs+1):\n",
    "    # mini batch별 학습\n",
    "    for batch_idx, samples in enumerate(dataloader):\n",
    "        x_train, y_train = samples\n",
    "\n",
    "        prediction = model(x_train)\n",
    "        cost = F.mse_loss(prediction, y_train)\n",
    "\n",
    "        optimizer.zero_grad()\n",
    "        cost.backward()\n",
    "        optimizer.step()   \n",
    "\n",
    "        print('Epoch {:4d}/{} Batch {}/{} Cost: {:.6f}'.format(epoch, nb_epochs, batch_idx+1, len(dataloader), cost.item()))\n",
    "\n"
   ]
  },
  {
   "cell_type": "code",
   "execution_count": 12,
   "id": "1fe6381f",
   "metadata": {},
   "outputs": [
    {
     "name": "stdout",
     "output_type": "stream",
     "text": [
      "152.72756958007812\n"
     ]
    }
   ],
   "source": [
    "test = torch.FloatTensor([[73, 80, 75]])\n",
    "test_y = model(test)\n",
    "\n",
    "print(test_y.item())"
   ]
  },
  {
   "cell_type": "markdown",
   "id": "d9dc7a04",
   "metadata": {},
   "source": [
    "### Custom Dataset"
   ]
  },
  {
   "cell_type": "code",
   "execution_count": 13,
   "id": "7e0367ac",
   "metadata": {},
   "outputs": [],
   "source": [
    "class CustomDataset(torch.utils.data.Dataset):\n",
    "\n",
    "    # dataset preprocessing\n",
    "    def __init__(self):\n",
    "        pass\n",
    "    \n",
    "    # dataset length\n",
    "    def __len__(self):\n",
    "        pass\n",
    "\n",
    "    # get 1 sample from dataset\n",
    "    def __getitem__(self, idx):\n",
    "        pass"
   ]
  },
  {
   "cell_type": "code",
   "execution_count": 14,
   "id": "4c6cc42e",
   "metadata": {},
   "outputs": [],
   "source": [
    "import torch\n",
    "import torch.nn.functional as F\n",
    "from torch.utils.data import Dataset\n",
    "from torch.utils.data import DataLoader"
   ]
  },
  {
   "cell_type": "code",
   "execution_count": 15,
   "id": "3af780ae",
   "metadata": {},
   "outputs": [],
   "source": [
    "class CustomDataset(Dataset):\n",
    "    def __init__(self):\n",
    "        self.x_data = [[73, 80, 75],\n",
    "                       [93, 88, 93],\n",
    "                       [89, 91, 90],\n",
    "                       [96, 98, 100],\n",
    "                       [73, 66, 70]]\n",
    "        self.y_data = [[152], [185], [180], [196], [142]]\n",
    "\n",
    "    def __len__(self):\n",
    "        return len(self.x_data)\n",
    "\n",
    "    def __getitem__(self, idx):\n",
    "        x = torch.FloatTensor(self.x_data[idx])\n",
    "        y = torch.FloatTensor(self.y_data[idx])\n",
    "        return x, y"
   ]
  },
  {
   "cell_type": "code",
   "execution_count": 16,
   "id": "9cad51b6",
   "metadata": {},
   "outputs": [],
   "source": [
    "dataset = CustomDataset()\n",
    "dataloader = DataLoader(dataset, batch_size = 2, shuffle=True)\n",
    "\n",
    "model = torch.nn.Linear(3,1)\n",
    "optimizer = torch.optim.SGD(model.parameters(), lr=1e-5)"
   ]
  },
  {
   "cell_type": "code",
   "execution_count": 17,
   "id": "02e13da0",
   "metadata": {},
   "outputs": [
    {
     "name": "stdout",
     "output_type": "stream",
     "text": [
      "Epoch    0/20 Batch 1/3 Cost: 26948.574219\n",
      "Epoch    0/20 Batch 2/3 Cost: 6044.408203\n",
      "Epoch    0/20 Batch 3/3 Cost: 1751.581421\n",
      "Epoch    1/20 Batch 1/3 Cost: 820.555908\n",
      "Epoch    1/20 Batch 2/3 Cost: 228.013123\n",
      "Epoch    1/20 Batch 3/3 Cost: 111.486160\n",
      "Epoch    2/20 Batch 1/3 Cost: 17.937288\n",
      "Epoch    2/20 Batch 2/3 Cost: 6.253775\n",
      "Epoch    2/20 Batch 3/3 Cost: 12.035614\n",
      "Epoch    3/20 Batch 1/3 Cost: 0.115994\n",
      "Epoch    3/20 Batch 2/3 Cost: 2.782716\n",
      "Epoch    3/20 Batch 3/3 Cost: 0.011664\n",
      "Epoch    4/20 Batch 1/3 Cost: 0.131695\n",
      "Epoch    4/20 Batch 2/3 Cost: 2.269470\n",
      "Epoch    4/20 Batch 3/3 Cost: 1.244701\n",
      "Epoch    5/20 Batch 1/3 Cost: 0.025187\n",
      "Epoch    5/20 Batch 2/3 Cost: 0.133366\n",
      "Epoch    5/20 Batch 3/3 Cost: 5.446771\n",
      "Epoch    6/20 Batch 1/3 Cost: 1.759431\n",
      "Epoch    6/20 Batch 2/3 Cost: 0.420898\n",
      "Epoch    6/20 Batch 3/3 Cost: 1.362975\n",
      "Epoch    7/20 Batch 1/3 Cost: 0.147138\n",
      "Epoch    7/20 Batch 2/3 Cost: 2.678567\n",
      "Epoch    7/20 Batch 3/3 Cost: 0.427087\n",
      "Epoch    8/20 Batch 1/3 Cost: 2.386539\n",
      "Epoch    8/20 Batch 2/3 Cost: 0.068774\n",
      "Epoch    8/20 Batch 3/3 Cost: 0.770359\n",
      "Epoch    9/20 Batch 1/3 Cost: 2.750409\n",
      "Epoch    9/20 Batch 2/3 Cost: 0.446204\n",
      "Epoch    9/20 Batch 3/3 Cost: 0.112107\n",
      "Epoch   10/20 Batch 1/3 Cost: 0.021145\n",
      "Epoch   10/20 Batch 2/3 Cost: 0.129643\n",
      "Epoch   10/20 Batch 3/3 Cost: 5.465947\n",
      "Epoch   11/20 Batch 1/3 Cost: 2.170571\n",
      "Epoch   11/20 Batch 2/3 Cost: 0.660280\n",
      "Epoch   11/20 Batch 3/3 Cost: 0.045342\n",
      "Epoch   12/20 Batch 1/3 Cost: 0.521690\n",
      "Epoch   12/20 Batch 2/3 Cost: 2.580491\n",
      "Epoch   12/20 Batch 3/3 Cost: 0.053306\n",
      "Epoch   13/20 Batch 1/3 Cost: 0.177558\n",
      "Epoch   13/20 Batch 2/3 Cost: 0.229718\n",
      "Epoch   13/20 Batch 3/3 Cost: 5.019607\n",
      "Epoch   14/20 Batch 1/3 Cost: 2.190432\n",
      "Epoch   14/20 Batch 2/3 Cost: 0.739953\n",
      "Epoch   14/20 Batch 3/3 Cost: 0.058581\n",
      "Epoch   15/20 Batch 1/3 Cost: 0.375989\n",
      "Epoch   15/20 Batch 2/3 Cost: 2.420453\n",
      "Epoch   15/20 Batch 3/3 Cost: 0.050189\n",
      "Epoch   16/20 Batch 1/3 Cost: 0.173013\n",
      "Epoch   16/20 Batch 2/3 Cost: 0.228697\n",
      "Epoch   16/20 Batch 3/3 Cost: 5.011816\n",
      "Epoch   17/20 Batch 1/3 Cost: 1.265554\n",
      "Epoch   17/20 Batch 2/3 Cost: 1.277533\n",
      "Epoch   17/20 Batch 3/3 Cost: 1.214819\n",
      "Epoch   18/20 Batch 1/3 Cost: 0.114315\n",
      "Epoch   18/20 Batch 2/3 Cost: 2.756674\n",
      "Epoch   18/20 Batch 3/3 Cost: 0.012103\n",
      "Epoch   19/20 Batch 1/3 Cost: 0.325798\n",
      "Epoch   19/20 Batch 2/3 Cost: 0.049640\n",
      "Epoch   19/20 Batch 3/3 Cost: 4.920820\n",
      "Epoch   20/20 Batch 1/3 Cost: 0.876878\n",
      "Epoch   20/20 Batch 2/3 Cost: 1.650268\n",
      "Epoch   20/20 Batch 3/3 Cost: 1.923031\n"
     ]
    }
   ],
   "source": [
    "nb_epochs = 20\n",
    "for epoch in range(nb_epochs + 1):\n",
    "    for batch_idx, samples in enumerate(dataloader):\n",
    "        x_train, y_train = samples\n",
    "        prediction = model(x_train)\n",
    "\n",
    "        cost = F.mse_loss(prediction, y_train)\n",
    "\n",
    "        optimizer.zero_grad()\n",
    "        cost.backward()\n",
    "        optimizer.step()\n",
    "\n",
    "        print('Epoch {:4d}/{} Batch {}/{} Cost: {:6f}'.format(\n",
    "            epoch, nb_epochs, batch_idx+1, len(dataloader),cost.item()\n",
    "        ))"
   ]
  },
  {
   "cell_type": "code",
   "execution_count": 18,
   "id": "91202caf",
   "metadata": {},
   "outputs": [
    {
     "name": "stdout",
     "output_type": "stream",
     "text": [
      "149.83740234375\n"
     ]
    }
   ],
   "source": [
    "test = torch.FloatTensor([[73, 80, 75]])\n",
    "test_y = model(test)\n",
    "\n",
    "print(test_y.item())"
   ]
  }
 ],
 "metadata": {
  "kernelspec": {
   "display_name": "pytorch_test",
   "language": "python",
   "name": "python3"
  },
  "language_info": {
   "codemirror_mode": {
    "name": "ipython",
    "version": 3
   },
   "file_extension": ".py",
   "mimetype": "text/x-python",
   "name": "python",
   "nbconvert_exporter": "python",
   "pygments_lexer": "ipython3",
   "version": "3.9.23"
  }
 },
 "nbformat": 4,
 "nbformat_minor": 5
}
