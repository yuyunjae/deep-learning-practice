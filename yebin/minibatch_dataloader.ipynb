{
 "cells": [
  {
   "cell_type": "markdown",
   "id": "0e581c6b",
   "metadata": {},
   "source": [
    "### Dataloader"
   ]
  },
  {
   "cell_type": "code",
   "execution_count": 11,
   "id": "b34a4c58",
   "metadata": {},
   "outputs": [],
   "source": [
    "import torch\n",
    "import torch.nn as nn\n",
    "import torch.nn.functional as F"
   ]
  },
  {
   "cell_type": "code",
   "execution_count": 12,
   "id": "ad374d1c",
   "metadata": {},
   "outputs": [],
   "source": [
    "from torch.utils.data import TensorDataset\n",
    "from torch.utils.data import DataLoader"
   ]
  },
  {
   "cell_type": "code",
   "execution_count": 43,
   "id": "70e77791",
   "metadata": {},
   "outputs": [],
   "source": [
    "x_train  =  torch.FloatTensor([[73,  80,  75], \n",
    "                               [93,  88,  93], \n",
    "                               [89,  91,  90], \n",
    "                               [96,  98,  100],   \n",
    "                               [73,  66,  70]])  \n",
    "y_train  =  torch.FloatTensor([[152],  [185],  [180],  [196],  [142]])\n"
   ]
  },
  {
   "cell_type": "code",
   "execution_count": 44,
   "id": "54c610f7",
   "metadata": {},
   "outputs": [],
   "source": [
    "dataset = TensorDataset(x_train, y_train)"
   ]
  },
  {
   "cell_type": "code",
   "execution_count": 45,
   "id": "faf872b9",
   "metadata": {},
   "outputs": [],
   "source": [
    "dataloader = DataLoader(dataset, batch_size=2, shuffle=True)"
   ]
  },
  {
   "cell_type": "code",
   "execution_count": 46,
   "id": "7da77831",
   "metadata": {},
   "outputs": [],
   "source": [
    "model = nn.Linear(3,1)\n",
    "optimizer = torch.optim.SGD(model.parameters(), lr=1e-5)"
   ]
  },
  {
   "cell_type": "code",
   "execution_count": 47,
   "id": "4ceb285c",
   "metadata": {},
   "outputs": [
    {
     "name": "stdout",
     "output_type": "stream",
     "text": [
      "Epoch    0/20 Batch 1/3 Cost: 41782.562500\n",
      "Epoch    0/20 Batch 2/3 Cost: 14756.134766\n",
      "Epoch    0/20 Batch 3/3 Cost: 5601.714844\n",
      "Epoch    1/20 Batch 1/3 Cost: 1175.495483\n",
      "Epoch    1/20 Batch 2/3 Cost: 350.068787\n",
      "Epoch    1/20 Batch 3/3 Cost: 160.496368\n",
      "Epoch    2/20 Batch 1/3 Cost: 35.866413\n",
      "Epoch    2/20 Batch 2/3 Cost: 8.818185\n",
      "Epoch    2/20 Batch 3/3 Cost: 2.481721\n",
      "Epoch    3/20 Batch 1/3 Cost: 2.766671\n",
      "Epoch    3/20 Batch 2/3 Cost: 4.964405\n",
      "Epoch    3/20 Batch 3/3 Cost: 0.000284\n",
      "Epoch    4/20 Batch 1/3 Cost: 3.880301\n",
      "Epoch    4/20 Batch 2/3 Cost: 3.348495\n",
      "Epoch    4/20 Batch 3/3 Cost: 0.007192\n",
      "Epoch    5/20 Batch 1/3 Cost: 0.453604\n",
      "Epoch    5/20 Batch 2/3 Cost: 3.008998\n",
      "Epoch    5/20 Batch 3/3 Cost: 7.277217\n",
      "Epoch    6/20 Batch 1/3 Cost: 5.917466\n",
      "Epoch    6/20 Batch 2/3 Cost: 2.531934\n",
      "Epoch    6/20 Batch 3/3 Cost: 0.011069\n",
      "Epoch    7/20 Batch 1/3 Cost: 3.823801\n",
      "Epoch    7/20 Batch 2/3 Cost: 3.090116\n",
      "Epoch    7/20 Batch 3/3 Cost: 0.003172\n",
      "Epoch    8/20 Batch 1/3 Cost: 3.288786\n",
      "Epoch    8/20 Batch 2/3 Cost: 0.190094\n",
      "Epoch    8/20 Batch 3/3 Cost: 6.512247\n",
      "Epoch    9/20 Batch 1/3 Cost: 2.286593\n",
      "Epoch    9/20 Batch 2/3 Cost: 4.939672\n",
      "Epoch    9/20 Batch 3/3 Cost: 0.001184\n",
      "Epoch   10/20 Batch 1/3 Cost: 0.791995\n",
      "Epoch   10/20 Batch 2/3 Cost: 5.073600\n",
      "Epoch   10/20 Batch 3/3 Cost: 0.063388\n",
      "Epoch   11/20 Batch 1/3 Cost: 3.454570\n",
      "Epoch   11/20 Batch 2/3 Cost: 3.566680\n",
      "Epoch   11/20 Batch 3/3 Cost: 0.016727\n",
      "Epoch   12/20 Batch 1/3 Cost: 1.731073\n",
      "Epoch   12/20 Batch 2/3 Cost: 5.311911\n",
      "Epoch   12/20 Batch 3/3 Cost: 0.179036\n",
      "Epoch   13/20 Batch 1/3 Cost: 2.240952\n",
      "Epoch   13/20 Batch 2/3 Cost: 4.509009\n",
      "Epoch   13/20 Batch 3/3 Cost: 0.086547\n",
      "Epoch   14/20 Batch 1/3 Cost: 0.247253\n",
      "Epoch   14/20 Batch 2/3 Cost: 3.106268\n",
      "Epoch   14/20 Batch 3/3 Cost: 7.557549\n",
      "Epoch   15/20 Batch 1/3 Cost: 1.907380\n",
      "Epoch   15/20 Batch 2/3 Cost: 5.141857\n",
      "Epoch   15/20 Batch 3/3 Cost: 0.100219\n",
      "Epoch   16/20 Batch 1/3 Cost: 2.266480\n",
      "Epoch   16/20 Batch 2/3 Cost: 0.459464\n",
      "Epoch   16/20 Batch 3/3 Cost: 6.344040\n",
      "Epoch   17/20 Batch 1/3 Cost: 4.737116\n",
      "Epoch   17/20 Batch 2/3 Cost: 3.783457\n",
      "Epoch   17/20 Batch 3/3 Cost: 0.039609\n",
      "Epoch   18/20 Batch 1/3 Cost: 3.903410\n",
      "Epoch   18/20 Batch 2/3 Cost: 0.980588\n",
      "Epoch   18/20 Batch 3/3 Cost: 5.283418\n",
      "Epoch   19/20 Batch 1/3 Cost: 5.607494\n",
      "Epoch   19/20 Batch 2/3 Cost: 3.384869\n",
      "Epoch   19/20 Batch 3/3 Cost: 0.063627\n",
      "Epoch   20/20 Batch 1/3 Cost: 1.847697\n",
      "Epoch   20/20 Batch 2/3 Cost: 4.910810\n",
      "Epoch   20/20 Batch 3/3 Cost: 0.112967\n"
     ]
    }
   ],
   "source": [
    "nb_epochs = 20\n",
    "for epoch in range(nb_epochs+1):\n",
    "    # mini batch별 학습\n",
    "    for batch_idx, samples in enumerate(dataloader):\n",
    "        x_train, y_train = samples\n",
    "\n",
    "        prediction = model(x_train)\n",
    "        cost = F.mse_loss(prediction, y_train)\n",
    "\n",
    "        optimizer.zero_grad()\n",
    "        cost.backward()\n",
    "        optimizer.step()   \n",
    "\n",
    "        print('Epoch {:4d}/{} Batch {}/{} Cost: {:.6f}'.format(epoch, nb_epochs, batch_idx+1, len(dataloader), cost.item()))\n",
    "\n"
   ]
  },
  {
   "cell_type": "code",
   "execution_count": 48,
   "id": "1fe6381f",
   "metadata": {},
   "outputs": [
    {
     "name": "stdout",
     "output_type": "stream",
     "text": [
      "151.3267059326172\n"
     ]
    }
   ],
   "source": [
    "test = torch.FloatTensor([[73, 80, 75]])\n",
    "test_y = model(test)\n",
    "\n",
    "print(test_y.item())"
   ]
  },
  {
   "cell_type": "markdown",
   "id": "d9dc7a04",
   "metadata": {},
   "source": [
    "### Custom Dataset"
   ]
  },
  {
   "cell_type": "markdown",
   "id": "7e0367ac",
   "metadata": {},
   "source": [
    "class CustomDataset(torch.utils.data.Dataset):\n",
    "\n",
    "    # dataset preprocessing\n",
    "    def __init__(self):\n",
    "    \n",
    "    # dataset length\n",
    "    def __len__(self):\n",
    "\n",
    "    # get 1 sample from dataset\n",
    "    def __getitem__(self, idx)"
   ]
  },
  {
   "cell_type": "code",
   "execution_count": 63,
   "id": "4c6cc42e",
   "metadata": {},
   "outputs": [],
   "source": [
    "import torch\n",
    "import torch.nn.functional as F\n",
    "from torch.utils.data import Dataset\n",
    "from torch.utils.data import DataLoader"
   ]
  },
  {
   "cell_type": "code",
   "execution_count": 64,
   "id": "3af780ae",
   "metadata": {},
   "outputs": [],
   "source": [
    "class CustomDataset(Dataset):\n",
    "    def __init__(self):\n",
    "        self.x_data = [[73, 80, 75],\n",
    "                       [93, 88, 93],\n",
    "                       [89, 91, 90],\n",
    "                       [96, 98, 100],\n",
    "                       [73, 66, 70]]\n",
    "        self.y_data = [[152], [185], [180], [196], [142]]\n",
    "\n",
    "    def __len__(self):\n",
    "        return len(self.x_data)\n",
    "\n",
    "    def __getitem__(self, idx):\n",
    "        x = torch.FloatTensor(self.x_data[idx])\n",
    "        y = torch.FloatTensor(self.y_data[idx])\n",
    "        return x, y"
   ]
  },
  {
   "cell_type": "code",
   "execution_count": 65,
   "id": "9cad51b6",
   "metadata": {},
   "outputs": [],
   "source": [
    "dataset = CustomDataset()\n",
    "dataloader = DataLoader(dataset, batch_size = 2, shuffle=True)\n",
    "\n",
    "model = torch.nn.Linear(3,1)\n",
    "optimizer = torch.optim.SGD(model.parameters(), lr=1e-5)"
   ]
  },
  {
   "cell_type": "code",
   "execution_count": 66,
   "id": "02e13da0",
   "metadata": {},
   "outputs": [
    {
     "name": "stdout",
     "output_type": "stream",
     "text": [
      "Epoch    0/20 Batch 1/3 Cost: 44719.175781\n",
      "Epoch    0/20 Batch 2/3 Cost: 7510.323730\n",
      "Epoch    0/20 Batch 3/3 Cost: 6109.453613\n",
      "Epoch    1/20 Batch 1/3 Cost: 810.213989\n",
      "Epoch    1/20 Batch 2/3 Cost: 290.380676\n",
      "Epoch    1/20 Batch 3/3 Cost: 120.173264\n",
      "Epoch    2/20 Batch 1/3 Cost: 20.509949\n",
      "Epoch    2/20 Batch 2/3 Cost: 8.254769\n",
      "Epoch    2/20 Batch 3/3 Cost: 2.262285\n",
      "Epoch    3/20 Batch 1/3 Cost: 1.241246\n",
      "Epoch    3/20 Batch 2/3 Cost: 0.137282\n",
      "Epoch    3/20 Batch 3/3 Cost: 0.778577\n",
      "Epoch    4/20 Batch 1/3 Cost: 0.345364\n",
      "Epoch    4/20 Batch 2/3 Cost: 0.271899\n",
      "Epoch    4/20 Batch 3/3 Cost: 0.538612\n",
      "Epoch    5/20 Batch 1/3 Cost: 0.323095\n",
      "Epoch    5/20 Batch 2/3 Cost: 0.348836\n",
      "Epoch    5/20 Batch 3/3 Cost: 0.501902\n",
      "Epoch    6/20 Batch 1/3 Cost: 0.580516\n",
      "Epoch    6/20 Batch 2/3 Cost: 0.289355\n",
      "Epoch    6/20 Batch 3/3 Cost: 0.290506\n",
      "Epoch    7/20 Batch 1/3 Cost: 0.376247\n",
      "Epoch    7/20 Batch 2/3 Cost: 0.213455\n",
      "Epoch    7/20 Batch 3/3 Cost: 0.493634\n",
      "Epoch    8/20 Batch 1/3 Cost: 0.093079\n",
      "Epoch    8/20 Batch 2/3 Cost: 0.467854\n",
      "Epoch    8/20 Batch 3/3 Cost: 0.507039\n",
      "Epoch    9/20 Batch 1/3 Cost: 0.458262\n",
      "Epoch    9/20 Batch 2/3 Cost: 0.317378\n",
      "Epoch    9/20 Batch 3/3 Cost: 0.301531\n",
      "Epoch   10/20 Batch 1/3 Cost: 0.357363\n",
      "Epoch   10/20 Batch 2/3 Cost: 0.380249\n",
      "Epoch   10/20 Batch 3/3 Cost: 0.469954\n",
      "Epoch   11/20 Batch 1/3 Cost: 0.219106\n",
      "Epoch   11/20 Batch 2/3 Cost: 0.338522\n",
      "Epoch   11/20 Batch 3/3 Cost: 0.454661\n",
      "Epoch   12/20 Batch 1/3 Cost: 0.281052\n",
      "Epoch   12/20 Batch 2/3 Cost: 0.313791\n",
      "Epoch   12/20 Batch 3/3 Cost: 0.351797\n",
      "Epoch   13/20 Batch 1/3 Cost: 0.389932\n",
      "Epoch   13/20 Batch 2/3 Cost: 0.284145\n",
      "Epoch   13/20 Batch 3/3 Cost: 0.285022\n",
      "Epoch   14/20 Batch 1/3 Cost: 0.410422\n",
      "Epoch   14/20 Batch 2/3 Cost: 0.293192\n",
      "Epoch   14/20 Batch 3/3 Cost: 0.271516\n",
      "Epoch   15/20 Batch 1/3 Cost: 0.090512\n",
      "Epoch   15/20 Batch 2/3 Cost: 0.905997\n",
      "Epoch   15/20 Batch 3/3 Cost: 0.408467\n",
      "Epoch   16/20 Batch 1/3 Cost: 0.406995\n",
      "Epoch   16/20 Batch 2/3 Cost: 0.297306\n",
      "Epoch   16/20 Batch 3/3 Cost: 0.141565\n",
      "Epoch   17/20 Batch 1/3 Cost: 0.372243\n",
      "Epoch   17/20 Batch 2/3 Cost: 0.320965\n",
      "Epoch   17/20 Batch 3/3 Cost: 0.145752\n",
      "Epoch   18/20 Batch 1/3 Cost: 0.326687\n",
      "Epoch   18/20 Batch 2/3 Cost: 0.269033\n",
      "Epoch   18/20 Batch 3/3 Cost: 0.687106\n",
      "Epoch   19/20 Batch 1/3 Cost: 0.409050\n",
      "Epoch   19/20 Batch 2/3 Cost: 0.321573\n",
      "Epoch   19/20 Batch 3/3 Cost: 0.319538\n",
      "Epoch   20/20 Batch 1/3 Cost: 0.351552\n",
      "Epoch   20/20 Batch 2/3 Cost: 0.235971\n",
      "Epoch   20/20 Batch 3/3 Cost: 0.486371\n"
     ]
    }
   ],
   "source": [
    "nb_epochs = 20\n",
    "for epoch in range(nb_epochs + 1):\n",
    "    for batch_idx, samples in enumerate(dataloader):\n",
    "        x_train, y_train = samples\n",
    "        prediction = model(x_train)\n",
    "\n",
    "        cost = F.mse_loss(prediction, y_train)\n",
    "\n",
    "        optimizer.zero_grad()\n",
    "        cost.backward()\n",
    "        optimizer.step()\n",
    "\n",
    "        print('Epoch {:4d}/{} Batch {}/{} Cost: {:6f}'.format(\n",
    "            epoch, nb_epochs, batch_idx+1, len(dataloader),cost.item()\n",
    "        ))"
   ]
  },
  {
   "cell_type": "code",
   "execution_count": 67,
   "id": "91202caf",
   "metadata": {},
   "outputs": [
    {
     "name": "stdout",
     "output_type": "stream",
     "text": [
      "151.69960021972656\n"
     ]
    }
   ],
   "source": [
    "test = torch.FloatTensor([[73, 80, 75]])\n",
    "test_y = model(test)\n",
    "\n",
    "print(test_y.item())"
   ]
  }
 ],
 "metadata": {
  "kernelspec": {
   "display_name": "pytorch_test",
   "language": "python",
   "name": "python3"
  },
  "language_info": {
   "codemirror_mode": {
    "name": "ipython",
    "version": 3
   },
   "file_extension": ".py",
   "mimetype": "text/x-python",
   "name": "python",
   "nbconvert_exporter": "python",
   "pygments_lexer": "ipython3",
   "version": "3.9.23"
  }
 },
 "nbformat": 4,
 "nbformat_minor": 5
}
