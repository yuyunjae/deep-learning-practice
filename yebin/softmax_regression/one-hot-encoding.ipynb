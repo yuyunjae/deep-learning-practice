{
 "cells": [
  {
   "cell_type": "markdown",
   "id": "8d5ff7af",
   "metadata": {},
   "source": [
    "### One-hot encoding"
   ]
  },
  {
   "cell_type": "markdown",
   "id": "7e387931",
   "metadata": {},
   "source": [
    "Consider the string : one hot encoding\n",
    "\n",
    "3 words exist in the string above.\n",
    "\n",
    "We can attribute index to each word like below\n",
    "\n",
    "```\n",
    "0 : one\n",
    "1 : hot\n",
    "2 : encoding\n",
    "```\n",
    "Now, we can identify each word using the vector whose entries are 0 and 1\n",
    "\n",
    "```\n",
    "one : [1, 0, 0]\n",
    "hot : [0, 1, 0]\n",
    "encoding : [0, 0, 1]\n",
    "```\n",
    "Thus, the string \"one hot encoding\" can be written as below:\n",
    "```\n",
    "[1, 0, 0]\n",
    "[0, 1, 0]\n",
    "[0, 0, 1]\n",
    "```\n",
    "\n"
   ]
  }
 ],
 "metadata": {
  "kernelspec": {
   "display_name": "pytorch_test",
   "language": "python",
   "name": "python3"
  },
  "language_info": {
   "name": "python",
   "version": "3.9.23"
  }
 },
 "nbformat": 4,
 "nbformat_minor": 5
}
