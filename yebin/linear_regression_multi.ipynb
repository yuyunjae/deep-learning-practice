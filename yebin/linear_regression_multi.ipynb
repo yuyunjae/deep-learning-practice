{
 "cells": [
  {
   "cell_type": "code",
   "execution_count": 2,
   "id": "d35dbcff",
   "metadata": {},
   "outputs": [
    {
     "data": {
      "text/plain": [
       "<torch._C.Generator at 0x1b257e77170>"
      ]
     },
     "execution_count": 2,
     "metadata": {},
     "output_type": "execute_result"
    }
   ],
   "source": [
    "import torch\n",
    "import torch.nn as nn\n",
    "import torch.nn.functional as F\n",
    "import torch.optim as optim\n",
    "\n",
    "torch.manual_seed(1)"
   ]
  },
  {
   "cell_type": "code",
   "execution_count": 10,
   "id": "9a977f1e",
   "metadata": {},
   "outputs": [],
   "source": [
    "x1_train = torch.FloatTensor([[73],[93],[89],[96],[73]])\n",
    "x2_train = torch.FloatTensor([[80], [88],[91],[98],[66]])\n",
    "x3_train = torch.FloatTensor([[75],[93],[90],[100],[70]])\n",
    "\n",
    "X_train = torch.FloatTensor([[73, 80, 75],\n",
    "                             [93, 88, 93],\n",
    "                             [89, 91, 80],\n",
    "                             [96, 98, 100],\n",
    "                             [73, 66, 70]])\n",
    "\n",
    "y_train = torch.FloatTensor([[152], [185], [180], [196], [142]])"
   ]
  },
  {
   "cell_type": "code",
   "execution_count": 9,
   "id": "7cdae27a",
   "metadata": {},
   "outputs": [],
   "source": [
    "w1 = torch.zeros(1, requires_grad=True)\n",
    "w2 = torch.zeros(1, requires_grad=True)\n",
    "w3 = torch.zeros(1, requires_grad=True)\n",
    "\n",
    "W = torch.zeros((3, 1), requires_grad=True)\n",
    "\n",
    "b = torch.zeros(1, requires_grad=True)"
   ]
  },
  {
   "cell_type": "code",
   "execution_count": 8,
   "id": "bd3262eb",
   "metadata": {},
   "outputs": [
    {
     "name": "stdout",
     "output_type": "stream",
     "text": [
      "Epoch    0/1000 w1 : 0.718 w2 : 0.612 w3 : 0.680 b : 0.009 Cost : 1.078961\n",
      "Epoch  100/1000 w1 : 0.722 w2 : 0.608 w3 : 0.680 b : 0.009 Cost : 1.038184\n",
      "Epoch  200/1000 w1 : 0.727 w2 : 0.603 w3 : 0.681 b : 0.010 Cost : 0.999508\n",
      "Epoch  300/1000 w1 : 0.731 w2 : 0.599 w3 : 0.681 b : 0.010 Cost : 0.962850\n",
      "Epoch  400/1000 w1 : 0.735 w2 : 0.595 w3 : 0.681 b : 0.010 Cost : 0.928104\n",
      "Epoch  500/1000 w1 : 0.739 w2 : 0.590 w3 : 0.681 b : 0.010 Cost : 0.895127\n",
      "Epoch  600/1000 w1 : 0.743 w2 : 0.586 w3 : 0.682 b : 0.010 Cost : 0.863870\n",
      "Epoch  700/1000 w1 : 0.746 w2 : 0.582 w3 : 0.682 b : 0.010 Cost : 0.834205\n",
      "Epoch  800/1000 w1 : 0.750 w2 : 0.579 w3 : 0.682 b : 0.010 Cost : 0.806107\n",
      "Epoch  900/1000 w1 : 0.754 w2 : 0.575 w3 : 0.682 b : 0.010 Cost : 0.779432\n",
      "Epoch 1000/1000 w1 : 0.757 w2 : 0.571 w3 : 0.682 b : 0.011 Cost : 0.754143\n"
     ]
    }
   ],
   "source": [
    "optimizer = optim.SGD([w1, w2, w3, b], lr = 1e-5)\n",
    "\n",
    "nb_epochs = 1000\n",
    "for epoch in range(nb_epochs+1):\n",
    "\n",
    "    hypothesis = w1*x1_train+w2*x2_train+w3*x3_train+b\n",
    "    cost = torch.mean((hypothesis-y_train)**2)\n",
    "\n",
    "    optimizer.zero_grad()\n",
    "    cost.backward()\n",
    "    optimizer.step()\n",
    "\n",
    "    if epoch % 100 == 0:\n",
    "        print('Epoch {:4d}/{} w1 : {:.3f} w2 : {:.3f} w3 : {:.3f} b : {:.3f} Cost : {:.6f}' .format\n",
    "              (epoch, nb_epochs, w1.item(), w2.item(), w3.item(), b.item(), cost.item()))"
   ]
  },
  {
   "cell_type": "code",
   "execution_count": null,
   "id": "9d4c07f1",
   "metadata": {},
   "outputs": [
    {
     "name": "stdout",
     "output_type": "stream",
     "text": [
      "Epoch    0/1000 hypothesis : tensor([0., 0., 0., 0., 0.]) Cost : 29661.800781\n",
      "Epoch  100/1000 hypothesis : tensor([154.0433, 185.0925, 175.8312, 198.5701, 141.2221]) Cost : 5.754573\n",
      "Epoch  200/1000 hypothesis : tensor([154.0278, 185.0649, 175.9335, 198.5128, 141.2284]) Cost : 5.512386\n",
      "Epoch  300/1000 hypothesis : tensor([154.0120, 185.0385, 176.0329, 198.4569, 141.2353]) Cost : 5.281667\n",
      "Epoch  400/1000 hypothesis : tensor([153.9960, 185.0133, 176.1295, 198.4022, 141.2426]) Cost : 5.061868\n",
      "Epoch  500/1000 hypothesis : tensor([153.9797, 184.9892, 176.2233, 198.3488, 141.2504]) Cost : 4.852424\n",
      "Epoch  600/1000 hypothesis : tensor([153.9632, 184.9662, 176.3143, 198.2966, 141.2586]) Cost : 4.652705\n",
      "Epoch  700/1000 hypothesis : tensor([153.9465, 184.9442, 176.4028, 198.2456, 141.2672]) Cost : 4.462287\n",
      "Epoch  800/1000 hypothesis : tensor([153.9296, 184.9232, 176.4888, 198.1958, 141.2762]) Cost : 4.280604\n",
      "Epoch  900/1000 hypothesis : tensor([153.9126, 184.9032, 176.5724, 198.1471, 141.2855]) Cost : 4.107294\n",
      "Epoch 1000/1000 hypothesis : tensor([153.8955, 184.8841, 176.6536, 198.0995, 141.2951]) Cost : 3.941866\n"
     ]
    }
   ],
   "source": [
    "W = torch.zeros((3, 1), requires_grad=True)\n",
    "b = torch.zeros(1, requires_grad=True)\n",
    "optimizer = optim.SGD([W, b], lr = 1e-5)\n",
    "\n",
    "nb_epochs = 1000\n",
    "for epoch in range(nb_epochs+1):\n",
    "\n",
    "    hypothesis = X_train.matmul(W)+b\n",
    "    cost = torch.mean((hypothesis-y_train)**2)\n",
    "\n",
    "    optimizer.zero_grad()\n",
    "    cost.backward()\n",
    "    optimizer.step()\n",
    "\n",
    "    if epoch % 100 == 0:\n",
    "        print('Epoch {:4d}/{} hypothesis : {} Cost : {:.6f}' .format\n",
    "              (epoch, nb_epochs, hypothesis.squeeze().detach(), cost.item()))\n",
    "        "
   ]
  },
  {
   "cell_type": "code",
   "execution_count": 82,
   "id": "47815174",
   "metadata": {},
   "outputs": [
    {
     "name": "stdout",
     "output_type": "stream",
     "text": [
      "Predicted value for input [75.0, 85.0, 72.0]: 157.25311279296875\n"
     ]
    }
   ],
   "source": [
    "with torch.no_grad():\n",
    "    new_input = torch.FloatTensor([[75, 85, 72]])\n",
    "    prediction = new_input.matmul(W)+b\n",
    "    print('Predicted value for input {}: {}'.format(new_input.squeeze().tolist(), prediction.item()))"
   ]
  }
 ],
 "metadata": {
  "kernelspec": {
   "display_name": "pytorch_test",
   "language": "python",
   "name": "python3"
  },
  "language_info": {
   "codemirror_mode": {
    "name": "ipython",
    "version": 3
   },
   "file_extension": ".py",
   "mimetype": "text/x-python",
   "name": "python",
   "nbconvert_exporter": "python",
   "pygments_lexer": "ipython3",
   "version": "3.9.23"
  }
 },
 "nbformat": 4,
 "nbformat_minor": 5
}
