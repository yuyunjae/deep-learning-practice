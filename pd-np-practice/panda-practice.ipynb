{
 "cells": [
  {
   "cell_type": "code",
   "execution_count": 2,
   "id": "caf74379",
   "metadata": {},
   "outputs": [
    {
     "data": {
      "text/plain": [
       "'2.2.2'"
      ]
     },
     "execution_count": 2,
     "metadata": {},
     "output_type": "execute_result"
    }
   ],
   "source": [
    "import pandas as pd\n",
    "pd.__version__\n"
   ]
  },
  {
   "cell_type": "markdown",
   "id": "6b3e71c0",
   "metadata": {},
   "source": [
    "Series"
   ]
  },
  {
   "cell_type": "code",
   "execution_count": 25,
   "id": "aec57dfc",
   "metadata": {},
   "outputs": [
    {
     "name": "stdout",
     "output_type": "stream",
     "text": [
      "하나    100\n",
      "둘     200\n",
      "셋     300\n",
      "Name: Value, dtype: int64\n",
      "_______________\n",
      "300\n",
      "_______________\n",
      "count      3.0\n",
      "mean     200.0\n",
      "std      100.0\n",
      "min      100.0\n",
      "25%      150.0\n",
      "50%      200.0\n",
      "75%      250.0\n",
      "max      300.0\n",
      "Name: Value, dtype: float64\n",
      "_______________\n",
      "0     5\n",
      "1    10\n",
      "2    15\n",
      "dtype: int64\n",
      "_______________\n",
      "0     5\n",
      "1    10\n",
      "dtype: int64\n",
      "_______________\n",
      "2    15\n",
      "dtype: int64\n"
     ]
    }
   ],
   "source": [
    "sr = pd.Series([100, 200, 300], name=\"Value\", index=[\"하나\", \"둘\", \"셋\"])\n",
    "print(sr)\n",
    "print('_'*15)\n",
    "print(sr.max())\n",
    "print('_'*15)\n",
    "print(sr.describe())\n",
    "print('_'*15)\n",
    "\n",
    "values = [5, 10, 15]\n",
    "sr1 = pd.Series(values)\n",
    "print(sr1)\n",
    "print('_'*15)\n",
    "print(sr1.head(2))\n",
    "print('_'*15)\n",
    "print(sr1.tail(1))"
   ]
  },
  {
   "cell_type": "markdown",
   "id": "73a80ec7",
   "metadata": {},
   "source": [
    "DataFrame"
   ]
  },
  {
   "cell_type": "code",
   "execution_count": null,
   "id": "0edab155",
   "metadata": {},
   "outputs": [
    {
     "name": "stdout",
     "output_type": "stream",
     "text": [
      "       A  B  C\n",
      "one    1  2  3\n",
      "two    4  5  6\n",
      "three  7  8  9\n",
      "\n",
      "list\n",
      "      0         1      2\n",
      "0  1000     Steve  90.72\n",
      "1  1001     James  78.09\n",
      "2  1002    Doyeon  98.43\n",
      "3  1003      Jane  64.19\n",
      "4  1004  Pilwoong  81.30\n",
      "5  1005      Tony  99.14\n",
      "     학번        이름     점수\n",
      "0  1000     Steve  90.72\n",
      "1  1001     James  78.09\n",
      "2  1002    Doyeon  98.43\n",
      "3  1003      Jane  64.19\n",
      "4  1004  Pilwoong  81.30\n",
      "5  1005      Tony  99.14\n",
      "\n",
      "dictionary\n",
      "   하나  둘\n",
      "0   1  3\n",
      "1   2  4\n",
      "     학번        이름     점수\n",
      "0  1000     Steve  90.72\n",
      "1  1001     James  78.09\n",
      "2  1002    Doyeon  98.43\n",
      "3  1003      Jane  64.19\n",
      "4  1004  Pilwoong  81.30\n",
      "5  1005      Tony  99.14\n",
      "0    1000\n",
      "1    1001\n",
      "Name: 학번, dtype: object\n"
     ]
    }
   ],
   "source": [
    "values = [[1,2,3],[4,5,6],[7,8,9]]\n",
    "index = ['one', 'two', 'three']\n",
    "columns = ['A', 'B', 'C']\n",
    "\n",
    "# index: 행방향 index, columns: 열방향 index\n",
    "# dataframe에는 name= 이 없음.\n",
    "df = pd.DataFrame(values, index=index, columns=columns)\n",
    "print(df)\n",
    "\n",
    "\n",
    "# 리스트로 dataframe생성\n",
    "print(\"\\nlist\")\n",
    "data = [\n",
    "    ['1000', 'Steve', 90.72], \n",
    "    ['1001', 'James', 78.09], \n",
    "    ['1002', 'Doyeon', 98.43], \n",
    "    ['1003', 'Jane', 64.19], \n",
    "    ['1004', 'Pilwoong', 81.30],\n",
    "    ['1005', 'Tony', 99.14],\n",
    "]\n",
    "\n",
    "df_list = pd.DataFrame(data)\n",
    "print(df_list)\n",
    "print(pd.DataFrame(data, columns=[\"학번\", \"이름\", \"점수\"]))\n",
    "\n",
    "# 딕셔너리로 생성성\n",
    "print(\"\\ndictionary\")\n",
    "df_test = pd.DataFrame({'A': [1, 2], 'B': [3, 4]})\n",
    "df_test.columns = [\"하나\", \"둘\"]\n",
    "print(df_test)\n",
    "\n",
    "data = {\n",
    "    '학번' : ['1000', '1001', '1002', '1003', '1004', '1005'],\n",
    "    '이름' : [ 'Steve', 'James', 'Doyeon', 'Jane', 'Pilwoong', 'Tony'],\n",
    "    '점수': [90.72, 78.09, 98.43, 64.19, 81.30, 99.14]\n",
    "    }\n",
    "df_dict = pd.DataFrame(data)\n",
    "print(df_dict)\n"
   ]
  },
  {
   "cell_type": "code",
   "execution_count": 54,
   "id": "a9b63ef5",
   "metadata": {},
   "outputs": [
    {
     "name": "stdout",
     "output_type": "stream",
     "text": [
      "     학번     이름     점수\n",
      "0  1000  Steve  90.72\n",
      "1  1001  James  78.09\n",
      "0    1000\n",
      "1    1001\n",
      "Name: 학번, dtype: object\n",
      "              점수\n",
      "count   6.000000\n",
      "mean   85.311667\n",
      "std    13.467994\n",
      "min    64.190000\n",
      "25%    78.892500\n",
      "50%    86.010000\n",
      "75%    96.502500\n",
      "max    99.140000\n",
      "(6, 3)\n",
      "         이름     점수\n",
      "0     Steve  90.72\n",
      "1     James  78.09\n",
      "2    Doyeon  98.43\n",
      "3      Jane  64.19\n",
      "4  Pilwoong  81.30\n",
      "5      Tony  99.14\n"
     ]
    }
   ],
   "source": [
    "\n",
    "print(df_dict.head(2))\n",
    "print(df_dict[\"학번\"].head(2))\n",
    "# print(df_dict[\"학번\"])\n",
    "print(df_dict.describe())\n",
    "print(df_dict.shape)\n",
    "print(df_dict[[\"이름\", \"점수\"]])"
   ]
  },
  {
   "cell_type": "code",
   "execution_count": 55,
   "id": "7f9e518f",
   "metadata": {},
   "outputs": [
    {
     "name": "stdout",
     "output_type": "stream",
     "text": [
      "     학번        이름     점수\n",
      "3  1003      Jane  64.19\n",
      "4  1004  Pilwoong  81.30\n",
      "5  1005      Tony  99.14\n",
      "0    False\n",
      "1    False\n",
      "2    False\n",
      "3     True\n",
      "4     True\n",
      "5     True\n",
      "Name: 학번, dtype: bool\n",
      "A    20\n",
      "B    50\n",
      "Name: y, dtype: int64\n",
      "50\n",
      "    A   B\n",
      "x  10  40\n",
      "y  20  50\n"
     ]
    }
   ],
   "source": [
    "\n",
    "print(df_dict[df_dict[\"학번\"] > '1002'])\n",
    "print(df_dict[\"학번\"] > '1002')\n",
    "# notna() == notnull() 같은 의미. 데이터가 누락되었으면 False, 누락되지 않았다면 True\n",
    "# loc: 이름(Label) 기반 인덱싱, iloc: 숫자(Integer Position) 기반 인덱싱\n",
    "df = pd.DataFrame({'A': [10, 20, 30], 'B': [40, 50, 60]},\n",
    "                  index=['x', 'y', 'z'])\n",
    "\n",
    "# 행 'y' 선택\n",
    "print(df.loc['y'])\n",
    "\n",
    "# 행 'y', 컬럼 'B'의 값 선택\n",
    "print(df.loc['y', 'B'])\n",
    "\n",
    "# 행 'x'부터 'y'까지 슬라이싱 (y 포함)\n",
    "print(df.loc['x':'y'])"
   ]
  },
  {
   "cell_type": "code",
   "execution_count": 3,
   "id": "c3c3ce3c",
   "metadata": {},
   "outputs": [
    {
     "name": "stdout",
     "output_type": "stream",
     "text": [
      "A    10\n",
      "B    40\n",
      "Name: x, dtype: int64\n",
      "40\n",
      "    A   B\n",
      "x  10  40\n",
      "y  20  50\n"
     ]
    }
   ],
   "source": [
    "df = pd.DataFrame({'A': [10, 20, 30], 'B': [40, 50, 60]},\n",
    "                  index=['x', 'y', 'z'])\n",
    "\n",
    "# 1번째 행 (인덱스 0) 선택\n",
    "print(df.iloc[0])\n",
    "\n",
    "# 1번째 행, 2번째 컬럼의 값 선택\n",
    "print(df.iloc[0, 1])\n",
    "\n",
    "# 1번째부터 2번째 행까지 슬라이싱 (2번 미포함)\n",
    "print(df.iloc[0:2])"
   ]
  },
  {
   "cell_type": "code",
   "execution_count": 4,
   "id": "15569b2d",
   "metadata": {},
   "outputs": [
    {
     "data": {
      "image/png": "[encoded data removed]",
      "text/plain": [
       "<Figure size 640x480 with 1 Axes>"
      ]
     },
     "metadata": {},
     "output_type": "display_data"
    },
    {
     "data": {
      "image/png": "[encoded data removed]",
      "text/plain": [
       "<Figure size 640x480 with 1 Axes>"
      ]
     },
     "metadata": {},
     "output_type": "display_data"
    },
    {
     "data": {
      "image/png": "[encoded data removed]",
      "text/plain": [
       "<Figure size 640x480 with 1 Axes>"
      ]
     },
     "metadata": {},
     "output_type": "display_data"
    }
   ],
   "source": [
    "import matplotlib.pyplot as plt\n",
    "# print(df.plot())\n",
    "df.plot()\n",
    "plt.title('test')\n",
    "plt.show()\n",
    "\n",
    "df.plot.scatter(x='A', y='B', alpha=1.0)\n",
    "df.plot.scatter(x='A', y='B', alpha=0.1)\n",
    "plt.show()\n"
   ]
  },
  {
   "cell_type": "code",
   "execution_count": null,
   "id": "e65cc3e7",
   "metadata": {},
   "outputs": [
    {
     "name": "stdout",
     "output_type": "stream",
     "text": [
      "     학번        이름     점수\n",
      "0  1000     Steve  90.72\n",
      "1  1001     James  78.09\n",
      "2  1002    Doyeon  98.43\n",
      "3  1003      Jane  64.19\n",
      "4  1004  Pilwoong  81.30\n",
      "5  1005      Tony  99.14\n",
      "     학번        이름     점수  추가 점수\n",
      "0  1000     Steve  90.72  9.072\n",
      "1  1001     James  78.09  7.809\n",
      "2  1002    Doyeon  98.43  9.843\n",
      "3  1003      Jane  64.19  6.419\n",
      "4  1004  Pilwoong  81.30  8.130\n",
      "5  1005      Tony  99.14  9.914\n",
      "   학번      이름   점수  추가 점수\n",
      "0  1000     Steve  90.72      9.072\n",
      "1  1001     James  78.09      7.809\n",
      "2  1002    Doyeon  98.43      9.843\n",
      "3  1003      Jane  64.19      6.419\n",
      "4  1004  Pilwoong  81.30      8.130\n",
      "5  1005      Tony  99.14      9.914\n",
      "     학번        이름     점수  추가 점수\n",
      "0  1000     Steve  90.72  9.072\n",
      "1  1001     James  78.09  7.809\n",
      "2  1002    Doyeon  98.43  9.843\n",
      "3  1003      Jane  64.19  6.419\n",
      "4  1004  Pilwoong  81.30  8.130\n",
      "5  1005      Tony  99.14  9.914\n"
     ]
    }
   ],
   "source": [
    "data = {\n",
    "    '학번' : ['1000', '1001', '1002', '1003', '1004', '1005'],\n",
    "    '이름' : [ 'Steve', 'James', 'Doyeon', 'Jane', 'Pilwoong', 'Tony'],\n",
    "    '점수': [90.72, 78.09, 98.43, 64.19, 81.30, 99.14]\n",
    "    }\n",
    "df = pd.DataFrame(data)\n",
    "print(df)\n",
    "df['추가 점수'] = df['점수'] * 0.1\n",
    "print(df)\n",
    "# 한글 등 동아시아 문자 폭을 활성화하는 옵션 설정\n",
    "pd.set_option('display.unicode.east_asian_width', True)\n",
    "print(df)\n",
    "\n",
    "pd.set_option('display.unicode.east_asian_width', False)"
   ]
  },
  {
   "cell_type": "code",
   "execution_count": null,
   "id": "c79bceb7",
   "metadata": {},
   "outputs": [
    {
     "name": "stdout",
     "output_type": "stream",
     "text": [
      "DatetimeIndex(['2025-01-01', '2025-01-02', '2025-01-03', '2025-01-04',\n",
      "               '2025-01-05', '2025-01-06', '2025-01-07', '2025-01-08',\n",
      "               '2025-01-09', '2025-01-10'],\n",
      "              dtype='datetime64[ns]', freq='D')\n",
      "            value\n",
      "2025-01-01      0\n",
      "2025-01-02      1\n",
      "2025-01-03      2\n",
      "2025-01-04      3\n",
      "2025-01-05      4\n",
      "2025-01-06      5\n",
      "2025-01-07      6\n",
      "2025-01-08      7\n",
      "2025-01-09      8\n",
      "2025-01-10      9\n",
      "            value\n",
      "2025-01-01     10\n",
      "2025-01-06     35\n"
     ]
    }
   ],
   "source": [
    "# groupby\n",
    "# pivot\n",
    "# pivot_table\n",
    "# reset_index\n",
    "# melt\n",
    "# rename\n",
    "# replace\n",
    "\n",
    "# 10일간의 일별 데이터 생성\n",
    "rng = pd.date_range('2025-01-01', periods=10, freq='D')\n",
    "print(rng)\n",
    "df = pd.DataFrame({'value': range(10)}, index=rng)\n",
    "print(df)\n",
    "\n",
    "# 5일(5D) 단위로 데이터를 그룹화하고 합산\n",
    "print(df.resample('5D').sum())"
   ]
  }
 ],
 "metadata": {
  "kernelspec": {
   "display_name": "base",
   "language": "python",
   "name": "python3"
  },
  "language_info": {
   "codemirror_mode": {
    "name": "ipython",
    "version": 3
   },
   "file_extension": ".py",
   "mimetype": "text/x-python",
   "name": "python",
   "nbconvert_exporter": "python",
   "pygments_lexer": "ipython3",
   "version": "3.12.7"
  }
 },
 "nbformat": 4,
 "nbformat_minor": 5
}
