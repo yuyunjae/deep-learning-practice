{
 "cells": [
  {
   "cell_type": "markdown",
   "id": "023125be",
   "metadata": {},
   "source": [
    "Linear Regression practice"
   ]
  },
  {
   "cell_type": "code",
   "execution_count": 1,
   "id": "63b757e3",
   "metadata": {},
   "outputs": [],
   "source": [
    "import torch \n",
    "import torch.nn as nn\n",
    "import torch.nn.functional as F\n",
    "import torch.optim as optim"
   ]
  },
  {
   "cell_type": "code",
   "execution_count": null,
   "id": "50081264",
   "metadata": {},
   "outputs": [
    {
     "name": "stdout",
     "output_type": "stream",
     "text": [
      "tensor([[1.],\n",
      "        [2.],\n",
      "        [3.]])\n",
      "torch.Size([3, 1])\n",
      "tensor([[2.],\n",
      "        [4.],\n",
      "        [6.]])\n",
      "torch.Size([3, 1])\n"
     ]
    }
   ],
   "source": [
    "torch.manual_seed(42)\n",
    "\n",
    "x_train = torch.FloatTensor([[1], [2], [3]])\n",
    "y_train = torch.FloatTensor([[2], [4], [6]])\n",
    "print(x_train)\n",
    "print(x_train.shape)\n",
    "\n",
    "print(y_train)\n",
    "print(y_train.shape)\n"
   ]
  },
  {
   "cell_type": "code",
   "execution_count": 7,
   "id": "c1091f9a",
   "metadata": {},
   "outputs": [
    {
     "name": "stdout",
     "output_type": "stream",
     "text": [
      "tensor([0.], requires_grad=True)\n",
      "tensor([0.], requires_grad=True)\n"
     ]
    }
   ],
   "source": [
    "# 가중치 W초기화\n",
    "W = torch.zeros(1, requires_grad=True)\n",
    "print(W)\n",
    "\n",
    "# 편향 b도 초기화\n",
    "b = torch.zeros(1, requires_grad=True)\n",
    "print(b)"
   ]
  },
  {
   "cell_type": "code",
   "execution_count": null,
   "id": "5e0bed67",
   "metadata": {},
   "outputs": [
    {
     "name": "stdout",
     "output_type": "stream",
     "text": [
      "tensor([[0.],\n",
      "        [0.],\n",
      "        [0.]], grad_fn=<AddBackward0>)\n"
     ]
    }
   ],
   "source": [
    "# 가설 선언\n",
    "hypothesis = x_train * W + b\n",
    "print(hypothesis)"
   ]
  },
  {
   "cell_type": "code",
   "execution_count": 9,
   "id": "195aa13e",
   "metadata": {},
   "outputs": [
    {
     "name": "stdout",
     "output_type": "stream",
     "text": [
      "tensor(18.6667, grad_fn=<MeanBackward0>)\n"
     ]
    }
   ],
   "source": [
    "# MSE 선언\n",
    "cost = torch.mean((y_train - hypothesis) ** 2)\n",
    "print(cost)"
   ]
  },
  {
   "cell_type": "code",
   "execution_count": 10,
   "id": "abf95955",
   "metadata": {},
   "outputs": [],
   "source": [
    "# SGD (Stochastic Gradient Descent)\n",
    "optimizer = optim.SGD([W,b], lr = 0.01)\n",
    "# gradient를 0으로 초기화\n",
    "optimizer.zero_grad()\n",
    "# 비용 함수를 미분하여 gradient 계산\n",
    "cost.backward()\n",
    "# W와 b 업데이트\n",
    "optimizer.step()"
   ]
  },
  {
   "cell_type": "code",
   "execution_count": 14,
   "id": "bd882831",
   "metadata": {},
   "outputs": [
    {
     "name": "stdout",
     "output_type": "stream",
     "text": [
      "Epoch    0/1000, W: 0.187, b: 0.080, Cost: 18.666666\n",
      "Epoch  100/1000, W: 1.746, b: 0.578, Cost: 0.048171\n",
      "Epoch  200/1000, W: 1.800, b: 0.454, Cost: 0.029767\n",
      "Epoch  300/1000, W: 1.843, b: 0.357, Cost: 0.018394\n",
      "Epoch  400/1000, W: 1.876, b: 0.281, Cost: 0.011366\n",
      "Epoch  500/1000, W: 1.903, b: 0.221, Cost: 0.007024\n",
      "Epoch  600/1000, W: 1.924, b: 0.174, Cost: 0.004340\n",
      "Epoch  700/1000, W: 1.940, b: 0.136, Cost: 0.002682\n",
      "Epoch  800/1000, W: 1.953, b: 0.107, Cost: 0.001657\n",
      "Epoch  900/1000, W: 1.963, b: 0.084, Cost: 0.001024\n"
     ]
    }
   ],
   "source": [
    "# 예제 \n",
    "x_train = torch.FloatTensor([[1], [2], [3]])\n",
    "y_train = torch.FloatTensor([[2], [4], [6]])\n",
    "\n",
    "#모델 초기화\n",
    "W = torch.zeros(1, requires_grad=True)\n",
    "b = torch.zeros(1, requires_grad=True)\n",
    "\n",
    "#optimizer 설정\n",
    "optimizer = optim.SGD([W, b], lr=0.01)\n",
    "\n",
    "nb_epochs = 1000\n",
    "for epoch in range(nb_epochs): \n",
    "    # H(x) 계산  (예상값 계산)\n",
    "    hypothesis = x_train * W + b\n",
    "    \n",
    "    # cost 계산\n",
    "    cost = torch.mean((y_train - hypothesis) ** 2)\n",
    "    \n",
    "    #cost로 H(x) 개선\n",
    "    # b, W의 .grad를 0으로 초기화 \n",
    "    optimizer.zero_grad()\n",
    "    # b, W의 .grad를 각각을 기준으로 미분하여 구함.\n",
    "    cost.backward()\n",
    "    # b, W 갱신\n",
    "    optimizer.step()\n",
    "    \n",
    "    if epoch % 100 == 0:\n",
    "        print('Epoch {:4d}/{}, W: {:.3f}, b: {:.3f}, Cost: {:.6f}'.format(epoch, nb_epochs, W.item(), b.item(), cost.item()))\n"
   ]
  }
 ],
 "metadata": {
  "kernelspec": {
   "display_name": "base",
   "language": "python",
   "name": "python3"
  },
  "language_info": {
   "codemirror_mode": {
    "name": "ipython",
    "version": 3
   },
   "file_extension": ".py",
   "mimetype": "text/x-python",
   "name": "python",
   "nbconvert_exporter": "python",
   "pygments_lexer": "ipython3",
   "version": "3.12.7"
  }
 },
 "nbformat": 4,
 "nbformat_minor": 5
}
